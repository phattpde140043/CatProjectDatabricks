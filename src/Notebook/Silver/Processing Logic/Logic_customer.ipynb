{
 "cells": [
  {
   "cell_type": "code",
   "execution_count": 0,
   "metadata": {
    "application/vnd.databricks.v1+cell": {
     "cellMetadata": {
      "byteLimit": 2048000,
      "rowLimit": 10000
     },
     "inputWidgets": {},
     "nuid": "4a20009b-99b5-4456-87ea-6b498932b0b1",
     "showTitle": false,
     "tableResultSettingsMap": {},
     "title": ""
    }
   },
   "outputs": [],
   "source": [
    "%sql\n",
    "USE CATALOG catproject_catalog;"
   ]
  },
  {
   "cell_type": "code",
   "execution_count": 0,
   "metadata": {
    "application/vnd.databricks.v1+cell": {
     "cellMetadata": {
      "byteLimit": 2048000,
      "rowLimit": 10000
     },
     "inputWidgets": {},
     "nuid": "234dcf72-0b85-43f3-83c5-a1078cc8ca2b",
     "showTitle": false,
     "tableResultSettingsMap": {},
     "title": ""
    }
   },
   "outputs": [],
   "source": [
    "from pyspark.sql.functions import col, lit, max as spark_max,year, month\n",
    "from delta.tables import DeltaTable\n",
    "import logging\n",
    "import sys\n",
    "from pyspark.sql.utils import AnalysisException\n",
    "from pyspark.sql.functions import current_timestamp\n"
   ]
  },
  {
   "cell_type": "code",
   "execution_count": 0,
   "metadata": {
    "application/vnd.databricks.v1+cell": {
     "cellMetadata": {
      "byteLimit": 2048000,
      "rowLimit": 10000
     },
     "inputWidgets": {},
     "nuid": "9c505f7f-3f7e-466c-8f00-897902ee8943",
     "showTitle": false,
     "tableResultSettingsMap": {},
     "title": ""
    }
   },
   "outputs": [],
   "source": [
    "logging.basicConfig(level=logging.INFO)\n",
    "logger = logging.getLogger(\"Upsert Customers Silver Table\")"
   ]
  },
  {
   "cell_type": "code",
   "execution_count": 0,
   "metadata": {
    "application/vnd.databricks.v1+cell": {
     "cellMetadata": {
      "byteLimit": 2048000,
      "rowLimit": 10000
     },
     "inputWidgets": {},
     "nuid": "dad10dbd-a540-4896-b843-7397fc43a0a3",
     "showTitle": false,
     "tableResultSettingsMap": {},
     "title": ""
    }
   },
   "outputs": [],
   "source": [
    "bronze_path = \"catproject_catalog.ecom_bronze.customer_raw\"\n",
    "silver_path = \"catproject_catalog.ecom_silver.customer_silver\"\n"
   ]
  },
  {
   "cell_type": "code",
   "execution_count": 0,
   "metadata": {
    "application/vnd.databricks.v1+cell": {
     "cellMetadata": {
      "byteLimit": 2048000,
      "rowLimit": 10000
     },
     "inputWidgets": {},
     "nuid": "90ba745b-7d41-4366-853a-f124c3ccc40d",
     "showTitle": false,
     "tableResultSettingsMap": {},
     "title": ""
    }
   },
   "outputs": [],
   "source": [
    "try:\n",
    "    df_customer_silver = DeltaTable.forName(spark,silver_path)\n",
    "except AnalysisException as e:\n",
    "    logger.error(f\"Failed to load silver table '{silver_path}': {str(e)}\")\n",
    "    sys.exit(1)  # kết thúc job với mã lỗi"
   ]
  },
  {
   "cell_type": "code",
   "execution_count": 0,
   "metadata": {
    "application/vnd.databricks.v1+cell": {
     "cellMetadata": {
      "byteLimit": 2048000,
      "rowLimit": 10000
     },
     "inputWidgets": {},
     "nuid": "39a52160-7d81-432e-a0e8-76425a1b635e",
     "showTitle": false,
     "tableResultSettingsMap": {},
     "title": ""
    }
   },
   "outputs": [],
   "source": [
    "def get_latest_ingestion_time(delta_tbl):\n",
    "    from pyspark.sql.functions import col, max as spark_max\n",
    "\n",
    "    df_partitioned = delta_tbl.toDF()  # ✅ chuyển DeltaTable thành DataFrame\n",
    "\n",
    "    \n",
    "    partition_max = df_partitioned.select(\"ingestion_year\", \"ingestion_month\") \\\n",
    "        .groupBy() \\\n",
    "        .agg(spark_max(\"ingestion_year\").alias(\"max_year\")) \\\n",
    "        .collect()[0]\n",
    "\n",
    "    max_year = partition_max[\"max_year\"]\n",
    "\n",
    "    partition_max_month = df_partitioned.filter(col(\"ingestion_year\") == max_year) \\\n",
    "        .agg(spark_max(\"ingestion_month\").alias(\"max_month\")) \\\n",
    "        .collect()[0]\n",
    "\n",
    "    max_month = partition_max_month[\"max_month\"]\n",
    "\n",
    "    df_filtered = df_partitioned.filter(\n",
    "        (col(\"ingestion_year\") == max_year) & (col(\"ingestion_month\") == max_month)\n",
    "    )\n",
    "\n",
    "    max_timestamp_row = df_filtered.agg(spark_max(\"ingestion_time\").alias(\"max_ingestion_time\")).collect()\n",
    "    return max_timestamp_row[0][\"max_ingestion_time\"] if max_timestamp_row else None"
   ]
  },
  {
   "cell_type": "code",
   "execution_count": 0,
   "metadata": {
    "application/vnd.databricks.v1+cell": {
     "cellMetadata": {
      "byteLimit": 2048000,
      "rowLimit": 10000
     },
     "inputWidgets": {},
     "nuid": "ec4b15ca-ff56-4e5a-b35e-851d53664cf5",
     "showTitle": false,
     "tableResultSettingsMap": {},
     "title": ""
    }
   },
   "outputs": [],
   "source": [
    "\n",
    "max_ingestion_time = get_latest_ingestion_time(df_customer_silver)\n",
    "if max_ingestion_time : \n",
    "    print(f\"max ingestion_time: {max_ingestion_time}\")\n",
    "else:\n",
    "    print(\"no max ingestion_time\")"
   ]
  },
  {
   "cell_type": "code",
   "execution_count": 0,
   "metadata": {
    "application/vnd.databricks.v1+cell": {
     "cellMetadata": {
      "byteLimit": 2048000,
      "rowLimit": 10000
     },
     "inputWidgets": {},
     "nuid": "f1ef5cc7-6d81-441e-8662-1905cf6e910f",
     "showTitle": false,
     "tableResultSettingsMap": {},
     "title": ""
    }
   },
   "outputs": [],
   "source": [
    "try:\n",
    "    df_customer_bronze = DeltaTable.forName(spark,bronze_path)\n",
    "except AnalysisException as e:\n",
    "    logger.error(f\"Failed to load bronze table '{bronze_path}': {str(e)}\")\n",
    "    sys.exit(1)  # kết thúc job với mã lỗi\n",
    "    \n",
    "if max_ingestion_time:\n",
    "    max_year = max_ingestion_time.year\n",
    "    max_month = max_ingestion_time.month\n",
    "\n",
    "    df_customer_bronze = df_customer_bronze.toDF().filter(\n",
    "        (\n",
    "            (col(\"ingestion_year\") > max_year) |\n",
    "            ((col(\"ingestion_year\") == max_year) & (col(\"ingestion_month\") >= max_month))\n",
    "        ) & (col(\"ingestion_time\") > max_ingestion_time)\n",
    "    )\n",
    "    display(df_customer_bronze)\n",
    "else:\n",
    "    df_customer_bronze = df_customer_bronze.toDF()\n",
    "    display(df_customer_bronze.toDF())\n"
   ]
  },
  {
   "cell_type": "code",
   "execution_count": 0,
   "metadata": {
    "application/vnd.databricks.v1+cell": {
     "cellMetadata": {
      "byteLimit": 2048000,
      "rowLimit": 10000
     },
     "inputWidgets": {},
     "nuid": "0c779e07-9d69-419c-9d6f-f10941fa08e0",
     "showTitle": false,
     "tableResultSettingsMap": {},
     "title": ""
    }
   },
   "outputs": [],
   "source": [
    "if df_customer_bronze.count() > 0:\n",
    "    # Merge dữ liệu mới\n",
    "    df_customer_silver.alias(\"target\").merge(\n",
    "        df_customer_bronze.alias(\"source\"),\n",
    "        \"target.customer_id = source.customer_id\"\n",
    "    ).whenMatchedUpdate(\n",
    "    condition=\"target.record_hash != source.record_hash\",\n",
    "    set={\n",
    "        \"full_name\": col(\"source.full_name\"),\n",
    "        \"email\": col(\"source.email\"),\n",
    "        \"address\": col(\"source.address\"),\n",
    "        \"city\": col(\"source.city\"),\n",
    "        \"country\": col(\"source.country\"),\n",
    "        \"date_of_birth\": col(\"source.date_of_birth\"),\n",
    "        \"gender\": col(\"source.gender\"),\n",
    "        \"phone_number\": col(\"source.phone_number\"),\n",
    "        \"status\": col(\"source.status\"),\n",
    "        \"loyalty_level\": col(\"source.loyalty_level\"),\n",
    "        \"last_update_time\": current_timestamp(),  # ghi lại thời gian cập nhật\n",
    "        \"record_hash\": col(\"source.record_hash\")\n",
    "    }\n",
    "    ).whenNotMatchedInsert(\n",
    "    values={\n",
    "        \"customer_id\":col(\"source.customer_id\"),\n",
    "        \"full_name\": col(\"source.full_name\"),\n",
    "        \"email\": col(\"source.email\"),\n",
    "        \"address\": col(\"source.address\"),\n",
    "        \"city\": col(\"source.city\"),\n",
    "        \"country\": col(\"source.country\"),\n",
    "        \"date_of_birth\": col(\"source.date_of_birth\"),\n",
    "        \"gender\": col(\"source.gender\"),\n",
    "        \"phone_number\": col(\"source.phone_number\"),\n",
    "        \"registration_date\": col(\"source.registration_date\"),\n",
    "        \"status\": col(\"source.status\"),\n",
    "        \"loyalty_level\": col(\"source.loyalty_level\"),\n",
    "        \"source_system\": col(\"source.source_system\"),\n",
    "        \"ingestion_time\": current_timestamp(),\n",
    "        \"ingestion_year\": year(current_timestamp()),\n",
    "        \"ingestion_month\": month(current_timestamp()),\n",
    "        \"last_update_time\": current_timestamp(),\n",
    "        \"operation_type\": col(\"source.operation_type\"),\n",
    "        \"record_hash\": col(\"source.record_hash\"),\n",
    "        \"source_updated_at\": col(\"source.source_updated_at\"),\n",
    "        \"total_spent\": \"0\",\n",
    "        \"total_orders\": \"0\"\n",
    "    }\n",
    "    ).execute()\n",
    "    print(\"✅ Merge thành công.\")\n",
    "else:\n",
    "    print(\"⏳ Không có dữ liệu mới để merge.\")\n"
   ]
  }
 ],
 "metadata": {
  "application/vnd.databricks.v1+notebook": {
   "computePreferences": null,
   "dashboards": [],
   "environmentMetadata": {
    "base_environment": "",
    "environment_version": "2"
   },
   "inputWidgetPreferences": null,
   "language": "python",
   "notebookMetadata": {
    "pythonIndentUnit": 4
   },
   "notebookName": "Logic_customer",
   "widgets": {}
  },
  "language_info": {
   "name": "python"
  }
 },
 "nbformat": 4,
 "nbformat_minor": 0
}

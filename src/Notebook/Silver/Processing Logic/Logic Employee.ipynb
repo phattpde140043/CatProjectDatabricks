{
 "cells": [
  {
   "cell_type": "code",
   "execution_count": 0,
   "metadata": {
    "application/vnd.databricks.v1+cell": {
     "cellMetadata": {
      "byteLimit": 2048000,
      "implicitDf": true,
      "rowLimit": 10000
     },
     "inputWidgets": {},
     "nuid": "6f5ecfb8-05bb-4ce7-a8d6-53f6cf051511",
     "showTitle": false,
     "tableResultSettingsMap": {},
     "title": ""
    }
   },
   "outputs": [],
   "source": [
    "%sql\n",
    "USE CATALOG catproject_catalog;"
   ]
  },
  {
   "cell_type": "code",
   "execution_count": 0,
   "metadata": {
    "application/vnd.databricks.v1+cell": {
     "cellMetadata": {
      "byteLimit": 2048000,
      "rowLimit": 10000
     },
     "inputWidgets": {},
     "nuid": "5c280168-c3e5-49f1-87e8-119f8ee13006",
     "showTitle": false,
     "tableResultSettingsMap": {},
     "title": ""
    }
   },
   "outputs": [],
   "source": [
    "from pyspark.sql.functions import col, lit, max as spark_max,year, month\n",
    "from delta.tables import DeltaTable\n",
    "import logging\n",
    "import sys\n",
    "from pyspark.sql.utils import AnalysisException\n",
    "from pyspark.sql.functions import current_timestamp\n"
   ]
  },
  {
   "cell_type": "code",
   "execution_count": 0,
   "metadata": {
    "application/vnd.databricks.v1+cell": {
     "cellMetadata": {
      "byteLimit": 2048000,
      "rowLimit": 10000
     },
     "inputWidgets": {},
     "nuid": "ab56a62c-1d1d-4f5f-8346-50b4a9508365",
     "showTitle": false,
     "tableResultSettingsMap": {},
     "title": ""
    }
   },
   "outputs": [],
   "source": [
    "bronze_path = \"catproject_catalog.ecom_bronze.employee_raw\"\n",
    "silver_path = \"catproject_catalog.ecom_silver.employee\""
   ]
  },
  {
   "cell_type": "code",
   "execution_count": 0,
   "metadata": {
    "application/vnd.databricks.v1+cell": {
     "cellMetadata": {
      "byteLimit": 2048000,
      "rowLimit": 10000
     },
     "inputWidgets": {},
     "nuid": "015d0ca8-18b3-401b-9123-c21a9980bf0e",
     "showTitle": false,
     "tableResultSettingsMap": {},
     "title": ""
    }
   },
   "outputs": [],
   "source": [
    "logging.basicConfig(level=logging.INFO)\n",
    "logger = logging.getLogger(\"Upsert Employee Silver Table\")"
   ]
  },
  {
   "cell_type": "code",
   "execution_count": 0,
   "metadata": {
    "application/vnd.databricks.v1+cell": {
     "cellMetadata": {
      "byteLimit": 2048000,
      "rowLimit": 10000
     },
     "inputWidgets": {},
     "nuid": "ac488b4e-4577-4d00-9672-45b1c9522ff0",
     "showTitle": false,
     "tableResultSettingsMap": {},
     "title": ""
    }
   },
   "outputs": [],
   "source": [
    "try:\n",
    "    df_employee_silver = DeltaTable.forName(spark,silver_path)\n",
    "except AnalysisException as e:\n",
    "    logger.error(f\"Failed to load silver table '{silver_path}': {str(e)}\")\n",
    "    sys.exit(1)  # kết thúc job với mã lỗi"
   ]
  },
  {
   "cell_type": "code",
   "execution_count": 0,
   "metadata": {
    "application/vnd.databricks.v1+cell": {
     "cellMetadata": {
      "byteLimit": 2048000,
      "rowLimit": 10000
     },
     "inputWidgets": {},
     "nuid": "4ff0db9b-21e4-412e-a919-9bdd47e516d9",
     "showTitle": false,
     "tableResultSettingsMap": {},
     "title": ""
    }
   },
   "outputs": [],
   "source": [
    "def get_latest_ingestion_time(delta_tbl):\n",
    "    from pyspark.sql.functions import col, max as spark_max\n",
    "\n",
    "    df_partitioned = delta_tbl.toDF()  # ✅ chuyển DeltaTable thành DataFrame\n",
    "\n",
    "    \n",
    "    partition_max = df_partitioned.select(\"ingestion_year\", \"ingestion_month\") \\\n",
    "        .groupBy() \\\n",
    "        .agg(spark_max(\"ingestion_year\").alias(\"max_year\")) \\\n",
    "        .collect()[0]\n",
    "\n",
    "    max_year = partition_max[\"max_year\"]\n",
    "\n",
    "    partition_max_month = df_partitioned.filter(col(\"ingestion_year\") == max_year) \\\n",
    "        .agg(spark_max(\"ingestion_month\").alias(\"max_month\")) \\\n",
    "        .collect()[0]\n",
    "\n",
    "    max_month = partition_max_month[\"max_month\"]\n",
    "\n",
    "    df_filtered = df_partitioned.filter(\n",
    "        (col(\"ingestion_year\") == max_year) & (col(\"ingestion_month\") == max_month)\n",
    "    )\n",
    "\n",
    "    max_timestamp_row = df_filtered.agg(spark_max(\"ingestion_time\").alias(\"max_ingestion_time\")).collect()\n",
    "    return max_timestamp_row[0][\"max_ingestion_time\"] if max_timestamp_row else None"
   ]
  },
  {
   "cell_type": "code",
   "execution_count": 0,
   "metadata": {
    "application/vnd.databricks.v1+cell": {
     "cellMetadata": {
      "byteLimit": 2048000,
      "rowLimit": 10000
     },
     "inputWidgets": {},
     "nuid": "8248b68f-db77-487c-9183-36d87d94f075",
     "showTitle": false,
     "tableResultSettingsMap": {},
     "title": ""
    }
   },
   "outputs": [],
   "source": [
    "max_ingestion_time = get_latest_ingestion_time(df_employee_silver)\n",
    "if max_ingestion_time : \n",
    "    print(f\"max ingestion_time: {max_ingestion_time}\")\n",
    "else:\n",
    "    print(\"no max ingestion_time\")"
   ]
  },
  {
   "cell_type": "code",
   "execution_count": 0,
   "metadata": {
    "application/vnd.databricks.v1+cell": {
     "cellMetadata": {},
     "inputWidgets": {},
     "nuid": "51638a1a-0693-41b5-bf30-85c46afbe1a3",
     "showTitle": false,
     "tableResultSettingsMap": {},
     "title": ""
    }
   },
   "outputs": [],
   "source": []
  },
  {
   "cell_type": "code",
   "execution_count": 0,
   "metadata": {
    "application/vnd.databricks.v1+cell": {
     "cellMetadata": {
      "byteLimit": 2048000,
      "rowLimit": 10000
     },
     "inputWidgets": {},
     "nuid": "2f03785a-9eaf-4679-a78e-b908e6cdafb8",
     "showTitle": false,
     "tableResultSettingsMap": {},
     "title": ""
    }
   },
   "outputs": [],
   "source": [
    "try:\n",
    "    df_employee_bronze = DeltaTable.forName(spark,bronze_path)\n",
    "except AnalysisException as e:\n",
    "    logger.error(f\"Failed to load bronze table '{bronze_path}': {str(e)}\")\n",
    "    sys.exit(1)  # kết thúc job với mã lỗi\n",
    "    \n",
    "if max_ingestion_time:\n",
    "    max_year = max_ingestion_time.year\n",
    "    max_month = max_ingestion_time.month\n",
    "\n",
    "    df_employee_bronze = df_employee_bronze.toDF().filter(\n",
    "        (\n",
    "            (col(\"ingestion_year\") > max_year) |\n",
    "            ((col(\"ingestion_year\") == max_year) & (col(\"ingestion_month\") >= max_month))\n",
    "        ) & (col(\"ingestion_time\") > max_ingestion_time)\n",
    "    )\n",
    "    display(df_employee_bronze)\n",
    "else:\n",
    "    df_employee_bronze= df_employee_bronze.toDF()\n",
    "    display(df_employee_bronze)"
   ]
  },
  {
   "cell_type": "code",
   "execution_count": 0,
   "metadata": {
    "application/vnd.databricks.v1+cell": {
     "cellMetadata": {
      "byteLimit": 2048000,
      "rowLimit": 10000
     },
     "inputWidgets": {},
     "nuid": "fba7fea1-7b13-4760-86b0-d717ffefc6f1",
     "showTitle": false,
     "tableResultSettingsMap": {},
     "title": ""
    }
   },
   "outputs": [],
   "source": [
    "if df_employee_bronze.count() > 0:\n",
    "    # Merge dữ liệu mới\n",
    "    df_employee_silver.alias(\"target\").merge(\n",
    "        df_employee_bronze.alias(\"source\"),\n",
    "        \"target.employee_id = source.employee_id\"\n",
    "    ).whenMatchedUpdate(\n",
    "    condition=\"target.record_hash != source.record_hash\",\n",
    "    set={\n",
    "        \"full_name\": col(\"source.full_name\"),\n",
    "        \"date_of_birth\": col(\"source.date_of_birth\"),\n",
    "        \"gender\": col(\"source.gender\"),\n",
    "        \"email\": col(\"source.email\"),\n",
    "        \"phone_number\": col(\"source.phone_number\"),\n",
    "        \"address\": col(\"source.address\"),\n",
    "        \"department\": col(\"source.department\"),\n",
    "        \"position\": col(\"source.position\"),\n",
    "        \"base_salary\": col(\"source.base_salary\"),\n",
    "        \"salary_coefficient\": col(\"source.salary_coefficient\"),\n",
    "        \"status\": col(\"source.status\"),\n",
    "        \"start_date\": col(\"source.start_date\"),\n",
    "        \"end_date\": col(\"source.end_date\"),\n",
    "        \"source_system\": col(\"source.source_system\"),\n",
    "        \"last_update_time\": current_timestamp(),  # ghi lại thời gian cập nhật\n",
    "        \"record_hash\": col(\"source.record_hash\")\n",
    "    }\n",
    "    ).whenNotMatchedInsert(\n",
    "    values={\n",
    "        \"employee_id\":col(\"source.employee_id\"),\n",
    "        \"full_name\": col(\"source.full_name\"),\n",
    "        \"date_of_birth\": col(\"source.date_of_birth\"),\n",
    "        \"gender\": col(\"source.gender\"),\n",
    "        \"email\": col(\"source.email\"),\n",
    "        \"phone_number\": col(\"source.phone_number\"),\n",
    "        \"address\": col(\"source.address\"),\n",
    "        \"department\": col(\"source.department\"),\n",
    "        \"position\": col(\"source.position\"),\n",
    "        \"base_salary\": col(\"source.base_salary\"),\n",
    "        \"salary_coefficient\": col(\"source.salary_coefficient\"),\n",
    "        \"status\": col(\"source.status\"),\n",
    "        \"start_date\": col(\"source.start_date\"),\n",
    "        \"end_date\": col(\"source.end_date\"),\n",
    "        \"source_system\": col(\"source.source_system\"),\n",
    "        \"ingestion_time\": current_timestamp(),\n",
    "        \"ingestion_year\": year(current_timestamp()),\n",
    "        \"ingestion_month\": month(current_timestamp()),\n",
    "        \"last_update_time\": current_timestamp(),\n",
    "        \"operation_type\": col(\"source.operation_type\"),\n",
    "        \"record_hash\": col(\"source.record_hash\"),\n",
    "        \"source_updated_at\": col(\"source.source_updated_at\")\n",
    "    }\n",
    "    ).execute()\n",
    "    print(\"✅ Merge thành công.\")\n",
    "else:\n",
    "    print(\"⏳ Không có dữ liệu mới để merge.\")\n"
   ]
  }
 ],
 "metadata": {
  "application/vnd.databricks.v1+notebook": {
   "computePreferences": null,
   "dashboards": [],
   "environmentMetadata": {
    "base_environment": "",
    "environment_version": "2"
   },
   "inputWidgetPreferences": null,
   "language": "python",
   "notebookMetadata": {
    "mostRecentlyExecutedCommandWithImplicitDF": {
     "commandId": 7786121047560012,
     "dataframes": [
      "_sqldf"
     ]
    },
    "pythonIndentUnit": 4
   },
   "notebookName": "Logic Employee",
   "widgets": {}
  },
  "language_info": {
   "name": "python"
  }
 },
 "nbformat": 4,
 "nbformat_minor": 0
}

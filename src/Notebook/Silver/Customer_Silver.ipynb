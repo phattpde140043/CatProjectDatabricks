{
 "cells": [
  {
   "cell_type": "code",
   "execution_count": 0,
   "metadata": {
    "application/vnd.databricks.v1+cell": {
     "cellMetadata": {
      "byteLimit": 2048000,
      "rowLimit": 10000
     },
     "inputWidgets": {},
     "nuid": "48de36b2-ad11-41c5-ab5f-f6d067b51fd6",
     "showTitle": false,
     "tableResultSettingsMap": {},
     "title": ""
    }
   },
   "outputs": [],
   "source": [
    "USE CATALOG catproject_catalog;"
   ]
  },
  {
   "cell_type": "code",
   "execution_count": 0,
   "metadata": {
    "application/vnd.databricks.v1+cell": {
     "cellMetadata": {
      "byteLimit": 2048000,
      "rowLimit": 10000
     },
     "inputWidgets": {},
     "nuid": "6b60c71b-8e04-494a-9f3d-8d148e7c4c98",
     "showTitle": false,
     "tableResultSettingsMap": {},
     "title": ""
    }
   },
   "outputs": [],
   "source": [
    "USE SCHEMA ecom_silver;"
   ]
  },
  {
   "cell_type": "code",
   "execution_count": 0,
   "metadata": {
    "application/vnd.databricks.v1+cell": {
     "cellMetadata": {
      "byteLimit": 2048000,
      "rowLimit": 10000
     },
     "inputWidgets": {},
     "nuid": "651f1342-e64b-4dea-8aed-6b9439900fb3",
     "showTitle": false,
     "tableResultSettingsMap": {},
     "title": ""
    }
   },
   "outputs": [],
   "source": [
    "CREATE TABLE ecom_silver.customer_silver (\n",
    "  customer_id       STRING NOT NULL COMMENT 'Mã định danh khách hàng duy nhất',\n",
    "  full_name         STRING COMMENT 'Họ và tên khách hàng',\n",
    "  gender            STRING COMMENT 'Giới tính chuẩn hóa: Male hoặc Female',\n",
    "  date_of_birth     DATE COMMENT 'Ngày sinh',\n",
    "  email             STRING COMMENT 'Email khách hàng',\n",
    "  phone_number      STRING COMMENT 'Số điện thoại',\n",
    "  address           STRING COMMENT 'Địa chỉ',\n",
    "  city              STRING COMMENT 'Thành phố',\n",
    "  country           STRING COMMENT 'Quốc gia',\n",
    "  registration_date         DATE COMMENT 'Ngày bắt đầu làm khách hàng',\n",
    "  status            STRING COMMENT 'Trạng thái khách hàng: Active, Inactive, v.v.',\n",
    "  loyalty_level      STRING COMMENT 'Hạng thành viên: Bronze, Silver, Gold, Platinum',\n",
    "  total_spent       DECIMAL(18,2) COMMENT 'Tổng chi tiêu đã ghi nhận',\n",
    "  total_orders      INT COMMENT 'Tổng số đơn hàng',\n",
    "  source_system     STRING COMMENT 'Nguồn hệ thống lấy dữ liệu',\n",
    "  ingestion_time    TIMESTAMP COMMENT 'Thời điểm ingestion',\n",
    "  ingestion_year    INT COMMENT 'Năm ingestion (partition)',\n",
    "  ingestion_month   INT COMMENT 'Tháng ingestion (partition)',\n",
    "  operation_type    STRING COMMENT 'Loại thao tác: insert, update, delete',\n",
    "  record_hash       STRING COMMENT 'Dấu vết hash để kiểm tra thay đổi bản ghi',\n",
    "  source_updated_at TIMESTAMP COMMENT 'Thời điểm cập nhật từ nguồn'\n",
    ")\n",
    "USING DELTA\n",
    "PARTITIONED BY (ingestion_year, ingestion_month);\n"
   ]
  },
  {
   "cell_type": "code",
   "execution_count": 0,
   "metadata": {
    "application/vnd.databricks.v1+cell": {
     "cellMetadata": {
      "byteLimit": 2048000,
      "rowLimit": 10000
     },
     "inputWidgets": {},
     "nuid": "c6282d10-a251-4b53-ac3c-0610576a92cb",
     "showTitle": false,
     "tableResultSettingsMap": {},
     "title": ""
    }
   },
   "outputs": [],
   "source": [
    "ALTER TABLE customer_silver\n",
    "ALTER COLUMN customer_id SET NOT NULL;\n",
    "\n",
    "ALTER TABLE customer_silver\n",
    "ALTER COLUMN full_name SET NOT NULL;\n",
    "\n",
    "ALTER TABLE customer_silver\n",
    "ALTER COLUMN gender SET NOT NULL;\n",
    "\n",
    "ALTER TABLE customer_silver\n",
    "ALTER COLUMN date_of_birth SET NOT NULL;\n",
    "\n",
    "ALTER TABLE customer_silver\n",
    "ALTER COLUMN email SET NOT NULL;\n",
    "\n",
    "ALTER TABLE customer_silver\n",
    "ALTER COLUMN phone_number SET NOT NULL;\n",
    "\n",
    "ALTER TABLE customer_silver\n",
    "ALTER COLUMN address SET NOT NULL;\n",
    "\n",
    "ALTER TABLE customer_silver\n",
    "ALTER COLUMN city SET NOT NULL;\n",
    "\n",
    "ALTER TABLE customer_silver\n",
    "ALTER COLUMN country SET NOT NULL;\n",
    "\n",
    "ALTER TABLE customer_silver\n",
    "ALTER COLUMN registration_date SET NOT NULL;\n",
    "\n",
    "ALTER TABLE customer_silver\n",
    "ALTER COLUMN status SET NOT NULL;\n",
    "\n",
    "ALTER TABLE customer_silver\n",
    "ALTER COLUMN loyalty_level SET NOT NULL;\n",
    "\n",
    "ALTER TABLE customer_silver\n",
    "ALTER COLUMN total_spent SET NOT NULL;\n",
    "\n",
    "ALTER TABLE customer_silver\n",
    "ALTER COLUMN total_orders SET NOT NULL;\n",
    "\n",
    "ALTER TABLE customer_silver\n",
    "ALTER COLUMN source_system SET NOT NULL;\n",
    "\n",
    "ALTER TABLE customer_silver\n",
    "ALTER COLUMN ingestion_time SET NOT NULL;\n",
    "\n",
    "ALTER TABLE customer_silver\n",
    "ALTER COLUMN ingestion_year SET NOT NULL;\n",
    "\n",
    "ALTER TABLE customer_silver\n",
    "ALTER COLUMN ingestion_month SET NOT NULL;\n",
    "\n",
    "ALTER TABLE customer_silver\n",
    "ALTER COLUMN operation_type SET NOT NULL;\n",
    "\n",
    "ALTER TABLE customer_silver\n",
    "ALTER COLUMN record_hash SET NOT NULL;\n",
    "\n",
    "ALTER TABLE customer_silver\n",
    "ALTER COLUMN source_updated_at SET NOT NULL;\n",
    "\n",
    "ALTER TABLE customer_silver\n",
    "ADD CONSTRAINT chk_date_of_birth CHECK (date_of_birth <= current_timestamp());\n",
    "\n",
    "ALTER TABLE customer_silver\n",
    "ADD CONSTRAINT chk_registration_date CHECK (registration_date <= current_timestamp());\n",
    "\n",
    "ALTER TABLE customer_silver\n",
    "ADD CONSTRAINT chk_ingestion_time CHECK (ingestion_time <= current_timestamp());\n",
    "\n",
    "ALTER TABLE customer_silver\n",
    "ADD CONSTRAINT chk_source_updated_at CHECK (source_updated_at <= current_timestamp());\n",
    "\n",
    "ALTER TABLE customer_silver\n",
    "ADD CONSTRAINT chk_total_orders CHECK (total_orders >= 0);\n",
    "\n",
    "ALTER TABLE ecom_silver.customer_silver\n",
    "ADD CONSTRAINT chk_total_spent CHECK (total_spent >= 0);\n",
    "\n",
    "ALTER TABLE customer_silver\n",
    "ADD CONSTRAINT chk_ingestion_year CHECK (ingestion_year >= 0);\n",
    "\n",
    "ALTER TABLE customer_silver\n",
    "ADD CONSTRAINT chk_ingestion_month CHECK (ingestion_month >= 0);\n",
    "\n",
    "ALTER TABLE customer_silver\n",
    "ADD CONSTRAINT chk_email_at CHECK (email LIKE '%@%');\n",
    "\n",
    "-- Trạng thái hợp lệ\n",
    "ALTER TABLE ecom_silver.customer_silver \n",
    "ADD CONSTRAINT valid_status CHECK (status IN ('active', 'inactive', 'blocked'));\n",
    "\n",
    "-- Hạng khách hàng hợp lệ\n",
    "ALTER TABLE ecom_silver.customer_silver \n",
    "ADD CONSTRAINT valid_loyalty CHECK (loyalty_level IN ('Silver', 'Gold', 'Platinum'));\n",
    "\n",
    "ALTER TABLE ecom_silver.customer_silver \n",
    "ADD CONSTRAINT gender_check CHECK (gender IN ('male', 'female'));"
   ]
  },
  {
   "cell_type": "code",
   "execution_count": 0,
   "metadata": {
    "application/vnd.databricks.v1+cell": {
     "cellMetadata": {
      "byteLimit": 2048000,
      "rowLimit": 10000
     },
     "inputWidgets": {},
     "nuid": "6ef8463a-169d-4686-9d6d-bba14eeedcf0",
     "showTitle": false,
     "tableResultSettingsMap": {},
     "title": ""
    }
   },
   "outputs": [],
   "source": [
    "ALTER TABLE ecom_silver.customer_silver\n",
    "ADD COLUMN last_update_time TIMESTAMP COMMENT 'Thời điểm cập nhật cuối cùng của bản ghi';\n",
    "\n",
    "ALTER TABLE ecom_silver.customer_silver\n",
    "ADD CONSTRAINT chk_last_update_time CHECK (last_update_time <= CURRENT_TIMESTAMP);"
   ]
  },
  {
   "cell_type": "code",
   "execution_count": 0,
   "metadata": {
    "application/vnd.databricks.v1+cell": {
     "cellMetadata": {
      "byteLimit": 2048000,
      "rowLimit": 10000
     },
     "inputWidgets": {},
     "nuid": "774b6e50-ff43-4d9a-b3af-76548c8bb4d7",
     "showTitle": false,
     "tableResultSettingsMap": {},
     "title": ""
    }
   },
   "outputs": [],
   "source": [
    "Select * from catproject_catalog.ecom_silver.customer_silver\n"
   ]
  }
 ],
 "metadata": {
  "application/vnd.databricks.v1+notebook": {
   "computePreferences": null,
   "dashboards": [],
   "environmentMetadata": {
    "base_environment": "",
    "environment_version": "2"
   },
   "inputWidgetPreferences": null,
   "language": "sql",
   "notebookMetadata": {
    "pythonIndentUnit": 4
   },
   "notebookName": "Customer_Silver",
   "widgets": {}
  },
  "language_info": {
   "name": "sql"
  }
 },
 "nbformat": 4,
 "nbformat_minor": 0
}

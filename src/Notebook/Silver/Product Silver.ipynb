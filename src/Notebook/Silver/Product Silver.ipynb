{
 "cells": [
  {
   "cell_type": "code",
   "execution_count": 0,
   "metadata": {
    "application/vnd.databricks.v1+cell": {
     "cellMetadata": {
      "byteLimit": 2048000,
      "implicitDf": true,
      "rowLimit": 10000
     },
     "inputWidgets": {},
     "nuid": "4caad754-4067-4cc3-9c7d-3ea5cfd8cab1",
     "showTitle": false,
     "tableResultSettingsMap": {},
     "title": ""
    }
   },
   "outputs": [],
   "source": [
    "%sql\n",
    "USE CATALOG catproject_catalog"
   ]
  },
  {
   "cell_type": "code",
   "execution_count": 0,
   "metadata": {
    "application/vnd.databricks.v1+cell": {
     "cellMetadata": {
      "byteLimit": 2048000,
      "implicitDf": true,
      "rowLimit": 10000
     },
     "inputWidgets": {},
     "nuid": "ce5bc27c-483c-4125-a160-ff3c6a07c18a",
     "showTitle": false,
     "tableResultSettingsMap": {},
     "title": ""
    }
   },
   "outputs": [],
   "source": [
    "%sql \n",
    "USE SCHEMA ecom_silver"
   ]
  },
  {
   "cell_type": "code",
   "execution_count": 0,
   "metadata": {
    "application/vnd.databricks.v1+cell": {
     "cellMetadata": {
      "byteLimit": 2048000,
      "implicitDf": true,
      "rowLimit": 10000
     },
     "inputWidgets": {},
     "nuid": "ba28bc3e-9e86-46a3-a338-824f97e8cb38",
     "showTitle": false,
     "tableResultSettingsMap": {},
     "title": ""
    }
   },
   "outputs": [],
   "source": [
    "%sql\n",
    "CREATE TABLE ecom_silver.product (\n",
    "  product_id          STRING,\n",
    "  product_name        STRING,\n",
    "  category            STRING,\n",
    "  brand               STRING,\n",
    "  description         STRING,\n",
    "  price               DECIMAL(18,2),\n",
    "  cost                DECIMAL(18,2),\n",
    "  currency            STRING,\n",
    "  status              STRING,\n",
    "  warehouse_id       STRING,         -- Mã kho (nếu doanh nghiệp có nhiều kho)\n",
    "  quantity_on_hand   INT,            -- Số lượng thực có trong kho\n",
    "  quantity_reserved  INT,            -- Đã đặt nhưng chưa xuất\n",
    "  quantity_available INT,            -- Sẵn sàng để bán = on_hand - reserved\n",
    "  unit               STRING,         -- Đơn vị tính (e.g., pcs, box)\n",
    "  created_at          TIMESTAMP,\n",
    "  updated_at          TIMESTAMP,\n",
    "  source_system       STRING,\n",
    "  ingestion_time      TIMESTAMP,\n",
    "  ingestion_year      INT,\n",
    "  ingestion_month     INT,\n",
    "  operation_type      STRING,\n",
    "  record_hash         STRING,\n",
    "  source_updated_at   TIMESTAMP\n",
    ")\n",
    "USING DELTA\n",
    "PARTITIONED BY (ingestion_year, ingestion_month)\n",
    "TBLPROPERTIES (\n",
    "  'delta.enableChangeDataFeed' = true,\n",
    "  'comment' = 'Bảng chứa thông tin sản phẩm từ hệ thống nguồn (ERP, CMS, POS)'\n",
    ");"
   ]
  },
  {
   "cell_type": "code",
   "execution_count": 0,
   "metadata": {
    "application/vnd.databricks.v1+cell": {
     "cellMetadata": {
      "byteLimit": 2048000,
      "implicitDf": true,
      "rowLimit": 10000
     },
     "inputWidgets": {},
     "nuid": "8f2622b0-aa41-4751-8f3f-5d16ccfacaf9",
     "showTitle": false,
     "tableResultSettingsMap": {},
     "title": ""
    }
   },
   "outputs": [],
   "source": [
    "%sql\n",
    "COMMENT ON COLUMN ecom_silver.product.warehouse_id IS 'Kho chứa sản phẩm';\n",
    "COMMENT ON COLUMN ecom_silver.product.quantity_on_hand IS 'Số lượng có thực tế trong kho';\n",
    "COMMENT ON COLUMN ecom_silver.product.quantity_reserved IS 'Số lượng đã được đặt giữ chỗ';\n",
    "COMMENT ON COLUMN ecom_silver.product.quantity_available IS 'Số lượng có thể bán = on_hand - reserved';\n",
    "COMMENT ON COLUMN ecom_silver.product.unit IS 'Đơn vị tính của sản phẩm';\n",
    "COMMENT ON COLUMN ecom_silver.product.product_id IS 'Mã sản phẩm duy nhất';\n",
    "COMMENT ON COLUMN ecom_silver.product.product_name IS 'Tên sản phẩm';\n",
    "COMMENT ON COLUMN ecom_silver.product.category IS 'Danh mục sản phẩm';\n",
    "COMMENT ON COLUMN ecom_silver.product.brand IS 'Thương hiệu sản phẩm';\n",
    "COMMENT ON COLUMN ecom_silver.product.description IS 'Mô tả sản phẩm';\n",
    "COMMENT ON COLUMN ecom_silver.product.price IS 'Giá bán';\n",
    "COMMENT ON COLUMN ecom_silver.product.cost IS 'Giá vốn sản phẩm';\n",
    "COMMENT ON COLUMN ecom_silver.product.currency IS 'Loại tiền tệ';\n",
    "COMMENT ON COLUMN ecom_silver.product.status IS 'Trạng thái kinh doanh (active/inactive/discontinued)';\n",
    "COMMENT ON COLUMN ecom_silver.product.created_at IS 'Thời gian tạo bản ghi ở source';\n",
    "COMMENT ON COLUMN ecom_silver.product.updated_at IS 'Thời gian cập nhật gần nhất ở source';\n",
    "COMMENT ON COLUMN ecom_silver.product.source_system IS 'Hệ thống nguồn (ERP, CMS, POS)';\n",
    "COMMENT ON COLUMN ecom_silver.product.ingestion_time IS 'Thời điểm ingest vào lakehouse';\n",
    "COMMENT ON COLUMN ecom_silver.product.ingestion_year IS 'Năm ingest (partition)';\n",
    "COMMENT ON COLUMN ecom_silver.product.ingestion_month IS 'Tháng ingest (partition)';\n",
    "COMMENT ON COLUMN ecom_silver.product.operation_type IS 'INSERT / UPDATE / DELETE';\n",
    "COMMENT ON COLUMN ecom_silver.product.record_hash IS 'Hash để kiểm tra thay đổi';\n",
    "COMMENT ON COLUMN ecom_silver.product.source_updated_at IS 'Thời điểm cập nhật dữ liệu tại source';"
   ]
  },
  {
   "cell_type": "code",
   "execution_count": 0,
   "metadata": {
    "application/vnd.databricks.v1+cell": {
     "cellMetadata": {
      "byteLimit": 2048000,
      "implicitDf": true,
      "rowLimit": 10000
     },
     "inputWidgets": {},
     "nuid": "87a6018d-37ed-4382-9c22-848124ee4211",
     "showTitle": false,
     "tableResultSettingsMap": {},
     "title": ""
    }
   },
   "outputs": [],
   "source": [
    "%sql\n",
    "ALTER TABLE ecom_silver.product ALTER COLUMN product_id SET NOT NULL;\n",
    "ALTER TABLE ecom_silver.product ALTER COLUMN product_name SET NOT NULL;\n",
    "ALTER TABLE ecom_silver.product ALTER COLUMN category SET NOT NULL;\n",
    "ALTER TABLE ecom_silver.product ALTER COLUMN brand SET NOT NULL;\n",
    "ALTER TABLE ecom_silver.product ALTER COLUMN description SET NOT NULL;\n",
    "ALTER TABLE ecom_silver.product ALTER COLUMN price SET NOT NULL;\n",
    "ALTER TABLE ecom_silver.product ALTER COLUMN cost SET NOT NULL;\n",
    "ALTER TABLE ecom_silver.product ALTER COLUMN currency SET NOT NULL;\n",
    "ALTER TABLE ecom_silver.product ALTER COLUMN status SET NOT NULL;\n",
    "ALTER TABLE ecom_silver.product ALTER COLUMN warehouse_id SET NOT NULL;\n",
    "ALTER TABLE ecom_silver.product ALTER COLUMN quantity_on_hand SET NOT NULL;\n",
    "ALTER TABLE ecom_silver.product ALTER COLUMN quantity_reserved SET NOT NULL;\n",
    "ALTER TABLE ecom_silver.product ALTER COLUMN quantity_available SET NOT NULL;\n",
    "ALTER TABLE ecom_silver.product ALTER COLUMN unit SET NOT NULL;\n",
    "ALTER TABLE ecom_silver.product ALTER COLUMN created_at SET NOT NULL;\n",
    "ALTER TABLE ecom_silver.product ALTER COLUMN updated_at SET NOT NULL;\n",
    "ALTER TABLE ecom_silver.product ALTER COLUMN source_system SET NOT NULL;\n",
    "ALTER TABLE ecom_silver.product ALTER COLUMN ingestion_time SET NOT NULL;\n",
    "ALTER TABLE ecom_silver.product ALTER COLUMN ingestion_year SET NOT NULL;\n",
    "ALTER TABLE ecom_silver.product ALTER COLUMN ingestion_month SET NOT NULL;\n",
    "ALTER TABLE ecom_silver.product ALTER COLUMN operation_type SET NOT NULL;\n",
    "ALTER TABLE ecom_silver.product ALTER COLUMN record_hash SET NOT NULL;\n",
    "ALTER TABLE ecom_silver.product ALTER COLUMN source_updated_at SET NOT NULL;\n",
    "\n",
    "ALTER TABLE ecom_silver.product ADD CONSTRAINT valid_status CHECK (status IN ('active', 'inactive', 'discontinued'));\n",
    "ALTER TABLE ecom_silver.product ADD CONSTRAINT positive_price CHECK (price >= 0);\n",
    "ALTER TABLE ecom_silver.product ADD CONSTRAINT positive_cost CHECK (cost >= 0);\n",
    "ALTER TABLE ecom_silver.product ADD CONSTRAINT valid_currency CHECK (currency IN ('USD','VND'));\n",
    "ALTER TABLE ecom_silver.product ADD CONSTRAINT valid_created_date CHECK (created_at <= current_timestamp());\n",
    "ALTER TABLE ecom_silver.product ADD CONSTRAINT valid_updated_date CHECK (updated_at <= current_timestamp());\n",
    "ALTER TABLE ecom_silver.product ADD CONSTRAINT valid_ingestion_date CHECK (ingestion_time <= current_timestamp());\n",
    "ALTER TABLE ecom_silver.product ADD CONSTRAINT valid_source_updated_date CHECK (source_updated_at <= current_timestamp());\n",
    "ALTER TABLE ecom_silver.product ADD CONSTRAINT valid_operation_type CHECK (operation_type IN ('INSERT', 'UPDATE', 'DELETE'));\n",
    "\n",
    "ALTER TABLE ecom_silver.product\n",
    "ADD CONSTRAINT chk_quantity_on_hand_nonnegative CHECK (quantity_on_hand >= 0);\n",
    "\n",
    "ALTER TABLE ecom_silver.product\n",
    "ADD CONSTRAINT chk_quantity_reserved_nonnegative CHECK (quantity_reserved >= 0);\n",
    "\n",
    "ALTER TABLE ecom_silver.product\n",
    "ADD CONSTRAINT chk_quantity_available_nonnegative CHECK (quantity_available >= 0);\n",
    "\n",
    "ALTER TABLE ecom_silver.product\n",
    "ADD CONSTRAINT chk_ingestion_year_nonnegative CHECK (ingestion_year >= 0);\n",
    "\n",
    "ALTER TABLE ecom_silver.product\n",
    "ADD CONSTRAINT chk_ingestion_month_nonnegative CHECK (ingestion_month >= 0);"
   ]
  }
 ],
 "metadata": {
  "application/vnd.databricks.v1+notebook": {
   "computePreferences": null,
   "dashboards": [],
   "environmentMetadata": {
    "base_environment": "",
    "environment_version": "2"
   },
   "inputWidgetPreferences": null,
   "language": "python",
   "notebookMetadata": {
    "mostRecentlyExecutedCommandWithImplicitDF": {
     "commandId": 8029123287284988,
     "dataframes": [
      "_sqldf"
     ]
    },
    "pythonIndentUnit": 4
   },
   "notebookName": "Product Silver",
   "widgets": {}
  },
  "language_info": {
   "name": "python"
  }
 },
 "nbformat": 4,
 "nbformat_minor": 0
}

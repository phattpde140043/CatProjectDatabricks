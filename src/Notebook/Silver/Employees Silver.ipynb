{
 "cells": [
  {
   "cell_type": "code",
   "execution_count": 0,
   "metadata": {
    "application/vnd.databricks.v1+cell": {
     "cellMetadata": {
      "byteLimit": 2048000,
      "implicitDf": true,
      "rowLimit": 10000
     },
     "inputWidgets": {},
     "nuid": "c80c0b5a-602a-45b3-be13-93a0662787cf",
     "showTitle": false,
     "tableResultSettingsMap": {},
     "title": ""
    }
   },
   "outputs": [],
   "source": [
    "%sql\n",
    "USE CATALOG catproject_catalog"
   ]
  },
  {
   "cell_type": "code",
   "execution_count": 0,
   "metadata": {
    "application/vnd.databricks.v1+cell": {
     "cellMetadata": {
      "byteLimit": 2048000,
      "implicitDf": true,
      "rowLimit": 10000
     },
     "inputWidgets": {},
     "nuid": "4724d2d9-be43-40ad-be42-af254c45f84a",
     "showTitle": false,
     "tableResultSettingsMap": {},
     "title": ""
    }
   },
   "outputs": [],
   "source": [
    "%sql \n",
    "USE SCHEMA ecom_silver"
   ]
  },
  {
   "cell_type": "code",
   "execution_count": 0,
   "metadata": {
    "application/vnd.databricks.v1+cell": {
     "cellMetadata": {
      "byteLimit": 2048000,
      "implicitDf": true,
      "rowLimit": 10000
     },
     "inputWidgets": {},
     "nuid": "718d7138-d499-4207-aa43-d83b47dc85b1",
     "showTitle": false,
     "tableResultSettingsMap": {},
     "title": ""
    }
   },
   "outputs": [],
   "source": [
    "%sql\n",
    "CREATE TABLE ecom_silver.employee (\n",
    "  employee_id        STRING,\n",
    "  full_name          STRING,\n",
    "  date_of_birth      DATE,\n",
    "  gender             STRING,\n",
    "  email              STRING,\n",
    "  phone_number       STRING,\n",
    "  address            STRING,\n",
    "  department         STRING,\n",
    "  position           STRING,\n",
    "  base_salary        DECIMAL(18,2),\n",
    "  salary_coefficient DECIMAL(5,2),\n",
    "  status             STRING,\n",
    "  start_date         DATE,\n",
    "  end_date           DATE,\n",
    "  source_system      STRING,\n",
    "  ingestion_time     TIMESTAMP,\n",
    "  ingestion_year      INT,        -- Partition cấp 1\n",
    "  ingestion_month     INT,        -- Partition cấp 2\n",
    "  last_update_time   TIMESTAMP,\n",
    "  record_hash        STRING,\n",
    "  operation_type     STRING,\n",
    "  source_updated_at  TIMESTAMP\n",
    ")\n",
    "USING DELTA\n",
    "PARTITIONED BY (ingestion_year, ingestion_month)\n",
    "TBLPROPERTIES (\n",
    "  delta.enableChangeDataFeed = true\n",
    ");"
   ]
  },
  {
   "cell_type": "code",
   "execution_count": 0,
   "metadata": {
    "application/vnd.databricks.v1+cell": {
     "cellMetadata": {
      "byteLimit": 2048000,
      "implicitDf": true,
      "rowLimit": 10000
     },
     "inputWidgets": {},
     "nuid": "3ea480be-c3bf-48b3-98d6-06649a16966d",
     "showTitle": false,
     "tableResultSettingsMap": {},
     "title": ""
    }
   },
   "outputs": [],
   "source": [
    "%sql\n",
    "-- COMMENT từng cột\n",
    "COMMENT ON COLUMN ecom_silver.employee.employee_id          IS 'Mã định danh duy nhất của nhân viên trong hệ thống nguồn';\n",
    "COMMENT ON COLUMN ecom_silver.employee.full_name            IS 'Họ và tên đầy đủ của nhân viên';\n",
    "COMMENT ON COLUMN ecom_silver.employee.date_of_birth        IS 'Ngày sinh của nhân viên';\n",
    "COMMENT ON COLUMN ecom_silver.employee.gender               IS 'Giới tính của nhân viên: Male, Female, Other';\n",
    "COMMENT ON COLUMN ecom_silver.employee.email                IS 'Email công ty hoặc cá nhân của nhân viên';\n",
    "COMMENT ON COLUMN ecom_silver.employee.phone_number         IS 'Số điện thoại liên hệ';\n",
    "COMMENT ON COLUMN ecom_silver.employee.address              IS 'Địa chỉ hiện tại của nhân viên';\n",
    "COMMENT ON COLUMN ecom_silver.employee.department           IS 'Tên phòng ban mà nhân viên thuộc về';\n",
    "COMMENT ON COLUMN ecom_silver.employee.position             IS 'Chức danh hoặc vai trò của nhân viên';\n",
    "COMMENT ON COLUMN ecom_silver.employee.base_salary          IS 'Mức lương cơ bản theo hợp đồng';\n",
    "COMMENT ON COLUMN ecom_silver.employee.salary_coefficient   IS 'Hệ số điều chỉnh lương theo thâm niên, trình độ...';\n",
    "COMMENT ON COLUMN ecom_silver.employee.status               IS 'Trạng thái làm việc: active, resigned, suspended';\n",
    "COMMENT ON COLUMN ecom_silver.employee.start_date           IS 'Ngày bắt đầu làm việc chính thức';\n",
    "COMMENT ON COLUMN ecom_silver.employee.end_date             IS 'Ngày nghỉ việc (nếu có)';\n",
    "COMMENT ON COLUMN ecom_silver.employee.source_system        IS 'Hệ thống nguồn cung cấp dữ liệu (VD: HRM, ERP)';\n",
    "COMMENT ON COLUMN ecom_silver.employee.last_update_time     IS 'Thời điểm cập nhật bản ghi';\n",
    "COMMENT ON COLUMN ecom_silver.employee.ingestion_time       IS 'Thời điểm ingest bản ghi vào warehouse';\n",
    "COMMENT ON COLUMN ecom_silver.employee.ingestion_year       IS 'Năm ingest dữ liệu (phục vụ partition)';\n",
    "COMMENT ON COLUMN ecom_silver.employee.ingestion_month      IS 'Tháng ingest dữ liệu (phục vụ partition)';\n",
    "COMMENT ON COLUMN ecom_silver.employee.record_hash          IS 'Hash checksum toàn bộ bản ghi, phục vụ so sánh thay đổi';\n",
    "COMMENT ON COLUMN ecom_silver.employee.operation_type       IS 'Loại thay đổi: INSERT / UPDATE / DELETE';\n",
    "COMMENT ON COLUMN ecom_silver.employee.source_updated_at    IS 'Thời điểm bản ghi được cập nhật tại hệ thống nguồn';\n"
   ]
  },
  {
   "cell_type": "code",
   "execution_count": 0,
   "metadata": {
    "application/vnd.databricks.v1+cell": {
     "cellMetadata": {
      "byteLimit": 2048000,
      "implicitDf": true,
      "rowLimit": 10000
     },
     "inputWidgets": {},
     "nuid": "da4d075f-c195-4994-ac90-781dba75229a",
     "showTitle": false,
     "tableResultSettingsMap": {},
     "title": ""
    }
   },
   "outputs": [],
   "source": [
    "%sql\n",
    "ALTER TABLE ecom_silver.employee \n",
    "ADD CONSTRAINT operation_check CHECK (operation_type IN ('INSERT', 'UPDATE'));\n",
    "\n",
    "ALTER TABLE ecom_silver.employee \n",
    "ADD CONSTRAINT birthday_check CHECK (date_of_birth <= current_date());\n",
    "\n",
    "ALTER TABLE ecom_silver.employee \n",
    "ALTER COLUMN full_name SET NOT NULL;\n",
    "\n",
    "ALTER TABLE ecom_silver.employee \n",
    "ADD CONSTRAINT salary_coefficient_check CHECK (salary_coefficient >= 0);\n",
    "\n",
    "ALTER TABLE ecom_silver.employee\n",
    "ADD CONSTRAINT valid_status \n",
    "CHECK (status IN ('active', 'suspended'));\n",
    "\n",
    "ALTER TABLE ecom_silver.employee\n",
    "ADD CONSTRAINT valid_start_date \n",
    "CHECK (start_date <= current_date());\n",
    "\n",
    "ALTER TABLE ecom_silver.employee\n",
    "ALTER COLUMN ingestion_time SET NOT NULL;\n",
    "\n",
    "ALTER TABLE ecom_silver.employee\n",
    "ADD CONSTRAINT valid_ingestion_time\n",
    "CHECK (ingestion_time <= current_timestamp());\n",
    "\n",
    "ALTER TABLE ecom_silver.employee\n",
    "ADD CONSTRAINT valid_last_update_time\n",
    "CHECK (last_update_time <= current_timestamp());\n",
    "\n",
    "\n",
    "ALTER TABLE ecom_silver.employee \n",
    "ADD CONSTRAINT gender_check CHECK (gender IN ('Male', 'Female'));\n",
    "\n",
    "ALTER TABLE ecom_silver.employee \n",
    "ADD CONSTRAINT salary_check CHECK (base_salary >= 0);\n",
    "\n",
    "ALTER TABLE ecom_silver.employee ALTER COLUMN employee_id SET NOT NULL;\n",
    "ALTER TABLE ecom_silver.employee ALTER COLUMN full_name SET NOT NULL;\n",
    "ALTER TABLE ecom_silver.employee ALTER COLUMN date_of_birth SET NOT NULL;\n",
    "ALTER TABLE ecom_silver.employee ALTER COLUMN gender SET NOT NULL;\n",
    "ALTER TABLE ecom_silver.employee ALTER COLUMN email SET NOT NULL;\n",
    "ALTER TABLE ecom_silver.employee ALTER COLUMN phone_number SET NOT NULL;\n",
    "ALTER TABLE ecom_silver.employee ALTER COLUMN address SET NOT NULL;\n",
    "ALTER TABLE ecom_silver.employee ALTER COLUMN department SET NOT NULL;\n",
    "ALTER TABLE ecom_silver.employee ALTER COLUMN position SET NOT NULL;\n",
    "ALTER TABLE ecom_silver.employee ALTER COLUMN base_salary SET NOT NULL;\n",
    "ALTER TABLE ecom_silver.employee ALTER COLUMN salary_coefficient SET NOT NULL;\n",
    "ALTER TABLE ecom_silver.employee ALTER COLUMN status SET NOT NULL;\n",
    "ALTER TABLE ecom_silver.employee ALTER COLUMN start_date SET NOT NULL;\n",
    "ALTER TABLE ecom_silver.employee ALTER COLUMN source_system SET NOT NULL;\n",
    "ALTER TABLE ecom_silver.employee ALTER COLUMN ingestion_time SET NOT NULL;\n",
    "ALTER TABLE ecom_silver.employee ALTER COLUMN ingestion_year SET NOT NULL;\n",
    "ALTER TABLE ecom_silver.employee ALTER COLUMN ingestion_month SET NOT NULL;\n",
    "ALTER TABLE ecom_silver.employee ALTER COLUMN last_update_time SET NOT NULL;\n",
    "ALTER TABLE ecom_silver.employee ALTER COLUMN record_hash SET NOT NULL;\n",
    "ALTER TABLE ecom_silver.employee ALTER COLUMN operation_type SET NOT NULL;\n",
    "ALTER TABLE ecom_silver.employee ALTER COLUMN source_updated_at SET NOT NULL;"
   ]
  }
 ],
 "metadata": {
  "application/vnd.databricks.v1+notebook": {
   "computePreferences": null,
   "dashboards": [],
   "environmentMetadata": {
    "base_environment": "",
    "environment_version": "2"
   },
   "inputWidgetPreferences": null,
   "language": "python",
   "notebookMetadata": {
    "mostRecentlyExecutedCommandWithImplicitDF": {
     "commandId": 7786121047560025,
     "dataframes": [
      "_sqldf"
     ]
    },
    "pythonIndentUnit": 4
   },
   "notebookName": "Employees Silver",
   "widgets": {}
  },
  "language_info": {
   "name": "python"
  }
 },
 "nbformat": 4,
 "nbformat_minor": 0
}

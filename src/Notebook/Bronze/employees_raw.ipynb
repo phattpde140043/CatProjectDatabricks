{
 "cells": [
  {
   "cell_type": "code",
   "execution_count": 0,
   "metadata": {
    "application/vnd.databricks.v1+cell": {
     "cellMetadata": {
      "byteLimit": 2048000,
      "implicitDf": true,
      "rowLimit": 10000
     },
     "inputWidgets": {},
     "nuid": "0fc890d6-5dfa-43e3-91a4-747252a48eb7",
     "showTitle": false,
     "tableResultSettingsMap": {},
     "title": ""
    }
   },
   "outputs": [],
   "source": [
    "%sql\n",
    "USE CATALOG catproject_catalog"
   ]
  },
  {
   "cell_type": "code",
   "execution_count": 0,
   "metadata": {
    "application/vnd.databricks.v1+cell": {
     "cellMetadata": {
      "byteLimit": 2048000,
      "implicitDf": true,
      "rowLimit": 10000
     },
     "inputWidgets": {},
     "nuid": "b6864362-0e77-4c99-b995-e48b3621c6ee",
     "showTitle": false,
     "tableResultSettingsMap": {},
     "title": ""
    }
   },
   "outputs": [],
   "source": [
    "%sql \n",
    "USE SCHEMA ecom_bronze"
   ]
  },
  {
   "cell_type": "code",
   "execution_count": 0,
   "metadata": {
    "application/vnd.databricks.v1+cell": {
     "cellMetadata": {
      "byteLimit": 2048000,
      "implicitDf": true,
      "rowLimit": 10000
     },
     "inputWidgets": {},
     "nuid": "74e0f3e3-173a-4917-8d73-f022044d4e72",
     "showTitle": false,
     "tableResultSettingsMap": {},
     "title": ""
    }
   },
   "outputs": [],
   "source": [
    "%sql\n",
    "CREATE TABLE ecom_bronze.employee_raw (\n",
    "  employee_id        STRING,\n",
    "  full_name          STRING,\n",
    "  date_of_birth      DATE,\n",
    "  gender             STRING,\n",
    "  email              STRING,\n",
    "  phone_number       STRING,\n",
    "  address            STRING,\n",
    "  department         STRING,\n",
    "  position           STRING,\n",
    "  base_salary        DECIMAL(18,2),\n",
    "  salary_coefficient DECIMAL(5,2),\n",
    "  status             STRING,\n",
    "  start_date         DATE,\n",
    "  end_date           DATE,\n",
    "  source_system      STRING,\n",
    "  ingestion_time     TIMESTAMP,\n",
    "  ingestion_year      INT,        -- Partition cấp 1\n",
    "  ingestion_month     INT,        -- Partition cấp 2\n",
    "  record_hash        STRING,\n",
    "  operation_type     STRING,\n",
    "  source_updated_at  TIMESTAMP\n",
    ")\n",
    "USING DELTA\n",
    "PARTITIONED BY (ingestion_year, ingestion_month)"
   ]
  },
  {
   "cell_type": "markdown",
   "metadata": {
    "application/vnd.databricks.v1+cell": {
     "cellMetadata": {},
     "inputWidgets": {},
     "nuid": "73984b2d-6697-4ab0-b8e3-7f924a9bb6b2",
     "showTitle": false,
     "tableResultSettingsMap": {},
     "title": ""
    }
   },
   "source": [
    "Tạo constraint cho các attribute để đảm bảo data integrity"
   ]
  },
  {
   "cell_type": "code",
   "execution_count": 0,
   "metadata": {
    "application/vnd.databricks.v1+cell": {
     "cellMetadata": {
      "byteLimit": 2048000,
      "implicitDf": true,
      "rowLimit": 10000
     },
     "inputWidgets": {},
     "nuid": "fca4eec2-bcfa-42e9-95ad-0e69aa4e5aef",
     "showTitle": false,
     "tableResultSettingsMap": {},
     "title": ""
    }
   },
   "outputs": [],
   "source": [
    "%sql\n",
    "ALTER TABLE ecom_bronze.employee_raw \n",
    "ALTER COLUMN employee_id SET NOT NULL;\n",
    "\n",
    "ALTER TABLE ecom_bronze.employee_raw \n",
    "ADD CONSTRAINT gender_check CHECK (gender IN ('Male', 'Female'));\n",
    "\n",
    "ALTER TABLE ecom_bronze.employee_raw \n",
    "ADD CONSTRAINT salary_check CHECK (base_salary >= 0);\n",
    "\n",
    "ALTER TABLE ecom_bronze.employee_raw \n",
    "ADD CONSTRAINT operation_check CHECK (operation_type IN ('INSERT', 'UPDATE'));\n",
    "\n",
    "ALTER TABLE ecom_bronze.employee_raw \n",
    "ADD CONSTRAINT birthday_check CHECK (date_of_birth <= current_date());\n",
    "\n",
    "ALTER TABLE ecom_bronze.employee_raw \n",
    "ALTER COLUMN full_name SET NOT NULL;\n",
    "\n",
    "ALTER TABLE ecom_bronze.employee_raw \n",
    "ADD CONSTRAINT salary_coefficient_check CHECK (salary_coefficient >= 0);\n",
    "\n",
    "ALTER TABLE ecom_bronze.employee_raw\n",
    "ADD CONSTRAINT valid_status \n",
    "CHECK (status IN ('active', 'suspended'));\n",
    "\n",
    "ALTER TABLE ecom_bronze.employee_raw\n",
    "ADD CONSTRAINT valid_start_date \n",
    "CHECK (start_date <= current_date());\n",
    "\n",
    "ALTER TABLE ecom_bronze.employee_raw\n",
    "ALTER COLUMN ingestion_time SET NOT NULL;\n",
    "\n",
    "ALTER TABLE ecom_bronze.employee_raw\n",
    "ADD CONSTRAINT valid_ingestion_time\n",
    "CHECK (ingestion_time <= current_timestamp());\n"
   ]
  },
  {
   "cell_type": "markdown",
   "metadata": {
    "application/vnd.databricks.v1+cell": {
     "cellMetadata": {},
     "inputWidgets": {},
     "nuid": "d2847624-9425-4789-8668-364b17c855ad",
     "showTitle": false,
     "tableResultSettingsMap": {},
     "title": ""
    }
   },
   "source": [
    "Tạo comment mô tả nội dung và thuộc tính của các cột trong bảng"
   ]
  },
  {
   "cell_type": "code",
   "execution_count": 0,
   "metadata": {
    "application/vnd.databricks.v1+cell": {
     "cellMetadata": {
      "byteLimit": 2048000,
      "implicitDf": true,
      "rowLimit": 10000
     },
     "inputWidgets": {},
     "nuid": "8c5f1bd4-7eca-421b-b4cd-738e1c85879c",
     "showTitle": false,
     "tableResultSettingsMap": {},
     "title": ""
    }
   },
   "outputs": [],
   "source": [
    "%sql\n",
    "-- COMMENT từng cột\n",
    "COMMENT ON COLUMN ecom_bronze.employee_raw.employee_id          IS 'Mã định danh duy nhất của nhân viên trong hệ thống nguồn';\n",
    "COMMENT ON COLUMN ecom_bronze.employee_raw.full_name            IS 'Họ và tên đầy đủ của nhân viên';\n",
    "COMMENT ON COLUMN ecom_bronze.employee_raw.date_of_birth        IS 'Ngày sinh của nhân viên';\n",
    "COMMENT ON COLUMN ecom_bronze.employee_raw.gender               IS 'Giới tính của nhân viên: Male, Female, Other';\n",
    "COMMENT ON COLUMN ecom_bronze.employee_raw.email                IS 'Email công ty hoặc cá nhân của nhân viên';\n",
    "COMMENT ON COLUMN ecom_bronze.employee_raw.phone_number         IS 'Số điện thoại liên hệ';\n",
    "COMMENT ON COLUMN ecom_bronze.employee_raw.address              IS 'Địa chỉ hiện tại của nhân viên';\n",
    "COMMENT ON COLUMN ecom_bronze.employee_raw.department           IS 'Tên phòng ban mà nhân viên thuộc về';\n",
    "COMMENT ON COLUMN ecom_bronze.employee_raw.position             IS 'Chức danh hoặc vai trò của nhân viên';\n",
    "COMMENT ON COLUMN ecom_bronze.employee_raw.base_salary          IS 'Mức lương cơ bản theo hợp đồng';\n",
    "COMMENT ON COLUMN ecom_bronze.employee_raw.salary_coefficient   IS 'Hệ số điều chỉnh lương theo thâm niên, trình độ...';\n",
    "COMMENT ON COLUMN ecom_bronze.employee_raw.status               IS 'Trạng thái làm việc: active, resigned, suspended';\n",
    "COMMENT ON COLUMN ecom_bronze.employee_raw.start_date           IS 'Ngày bắt đầu làm việc chính thức';\n",
    "COMMENT ON COLUMN ecom_bronze.employee_raw.end_date             IS 'Ngày nghỉ việc (nếu có)';\n",
    "COMMENT ON COLUMN ecom_bronze.employee_raw.source_system        IS 'Hệ thống nguồn cung cấp dữ liệu (VD: HRM, ERP)';\n",
    "COMMENT ON COLUMN ecom_bronze.employee_raw.ingestion_time       IS 'Thời điểm ingest bản ghi vào warehouse';\n",
    "COMMENT ON COLUMN ecom_bronze.employee_raw.ingestion_year       IS 'Năm ingest dữ liệu (phục vụ partition)';\n",
    "COMMENT ON COLUMN ecom_bronze.employee_raw.ingestion_month      IS 'Tháng ingest dữ liệu (phục vụ partition)';\n",
    "COMMENT ON COLUMN ecom_bronze.employee_raw.record_hash          IS 'Hash checksum toàn bộ bản ghi, phục vụ so sánh thay đổi';\n",
    "COMMENT ON COLUMN ecom_bronze.employee_raw.operation_type       IS 'Loại thay đổi: INSERT / UPDATE / DELETE';\n",
    "COMMENT ON COLUMN ecom_bronze.employee_raw.source_updated_at    IS 'Thời điểm bản ghi được cập nhật tại hệ thống nguồn';\n"
   ]
  },
  {
   "cell_type": "markdown",
   "metadata": {
    "application/vnd.databricks.v1+cell": {
     "cellMetadata": {},
     "inputWidgets": {},
     "nuid": "55e36648-8493-46e0-8904-ffe36c6d332f",
     "showTitle": false,
     "tableResultSettingsMap": {},
     "title": ""
    }
   },
   "source": [
    "Kích hoạt CDF để theo dõi thay đổi dữ liệu vì bảng này thuộc SCD Type 2"
   ]
  },
  {
   "cell_type": "code",
   "execution_count": 0,
   "metadata": {
    "application/vnd.databricks.v1+cell": {
     "cellMetadata": {
      "byteLimit": 2048000,
      "implicitDf": true,
      "rowLimit": 10000
     },
     "inputWidgets": {},
     "nuid": "bec7526b-b12f-4b7d-be94-81874570b6be",
     "showTitle": false,
     "tableResultSettingsMap": {},
     "title": ""
    }
   },
   "outputs": [],
   "source": [
    "%sql\n",
    "ALTER TABLE ecom_bronze.employee_raw \n",
    "SET TBLPROPERTIES (\n",
    "  delta.enableChangeDataFeed = true\n",
    ");"
   ]
  },
  {
   "cell_type": "code",
   "execution_count": 0,
   "metadata": {
    "application/vnd.databricks.v1+cell": {
     "cellMetadata": {
      "byteLimit": 2048000,
      "implicitDf": true,
      "rowLimit": 10000
     },
     "inputWidgets": {},
     "nuid": "b1d3ffb7-fd41-4655-aab8-c5a2ed087f48",
     "showTitle": false,
     "tableResultSettingsMap": {
      "0": {
       "dataGridStateBlob": "{\"version\":1,\"tableState\":{\"columnPinning\":{\"left\":[\"#row_number#\"],\"right\":[]},\"columnSizing\":{\"data_type\":167},\"columnVisibility\":{}},\"settings\":{\"columns\":{}},\"syncTimestamp\":1753347776402}",
       "filterBlob": null,
       "queryPlanFiltersBlob": null,
       "tableResultIndex": 0
      }
     },
     "title": ""
    }
   },
   "outputs": [],
   "source": [
    "%sql\n",
    "DESCRIBE TABLE EXTENDED ecom_bronze.employee_raw"
   ]
  }
 ],
 "metadata": {
  "application/vnd.databricks.v1+notebook": {
   "computePreferences": null,
   "dashboards": [],
   "environmentMetadata": null,
   "inputWidgetPreferences": null,
   "language": "python",
   "notebookMetadata": {
    "mostRecentlyExecutedCommandWithImplicitDF": {
     "commandId": 6642783927929058,
     "dataframes": [
      "_sqldf"
     ]
    },
    "pythonIndentUnit": 4
   },
   "notebookName": "employees_raw",
   "widgets": {}
  },
  "language_info": {
   "name": "python"
  }
 },
 "nbformat": 4,
 "nbformat_minor": 0
}

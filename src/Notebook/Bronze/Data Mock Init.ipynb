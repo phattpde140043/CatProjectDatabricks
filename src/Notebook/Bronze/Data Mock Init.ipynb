{
 "cells": [
  {
   "cell_type": "code",
   "execution_count": 0,
   "metadata": {
    "application/vnd.databricks.v1+cell": {
     "cellMetadata": {
      "byteLimit": 2048000,
      "implicitDf": true,
      "rowLimit": 10000
     },
     "inputWidgets": {},
     "nuid": "a3179332-9397-4e9c-b85d-f0f653d8bf66",
     "showTitle": false,
     "tableResultSettingsMap": {},
     "title": ""
    }
   },
   "outputs": [],
   "source": [
    "%sql\n",
    "INSERT INTO catproject_catalog.ecom_bronze.employee_raw (\n",
    "  employee_id, full_name, date_of_birth, gender,\n",
    "  email, phone_number, address, department, position,\n",
    "  base_salary, salary_coefficient, status,\n",
    "  start_date, end_date, source_system,\n",
    "  ingestion_time, ingestion_year, ingestion_month,\n",
    "  record_hash, operation_type, source_updated_at\n",
    ")\n",
    "VALUES\n",
    "('ED0006', 'Nhân viên 6', DATE('1991-04-12'), 'Male',   'nv6@example.com',  '0901000006', 'Bình Dương', 'IT',        'DevOps',    13000000.00, 1.3, 'active',   DATE('2020-07-01'), NULL,           'ERP', current_timestamp(), 2025, 7, 'hash_dummy', 'INSERT', TIMESTAMP('2025-07-20 10:30:00')),\n",
    "('ED0007', 'Nhân viên 7', DATE('1988-11-23'), 'Female', 'nv7@example.com',  '0901000007', 'Hà Nội',     'Marketing', 'Designer',  9500000.00,  1.0, 'active',   DATE('2021-02-01'), NULL,           'HRM', current_timestamp(), 2025, 7, 'hash_dummy', 'INSERT', TIMESTAMP('2025-07-21 11:00:00')),\n",
    "('ED0008', 'Nhân viên 8', DATE('1990-05-18'), 'Male',   'nv8@example.com',  '0901000008', 'Quảng Ninh', 'Finance',   'Auditor',   14000000.00, 1.4, 'active', DATE('2015-05-01'), DATE('2022-08-15'), 'ERP', current_timestamp(), 2025, 7, 'hash_dummy', 'INSERT', TIMESTAMP('2025-07-18 13:30:00')),\n",
    "('ED0009', 'Nhân viên 9', DATE('1993-10-10'), 'Female', 'nv9@example.com',  '0901000009', 'Hải Phòng',  'Sales',     'Manager',   18000000.00, 1.5, 'active',   DATE('2020-01-10'), NULL,           'ERP', current_timestamp(), 2025, 7, 'hash_dummy', 'INSERT', TIMESTAMP('2025-07-23 09:00:00')),\n",
    "('ED0010', 'Nhân viên 10', DATE('1996-08-30'), 'Male',  'nv10@example.com', '0901000010', 'TP.HCM',     'HR',        'Recruiter', 10000000.00, 1.1, 'suspended', DATE('2022-03-15'), NULL,          'HRM', current_timestamp(), 2025, 7, 'hash_dummy', 'INSERT', TIMESTAMP('2025-07-20 15:00:00')),\n",
    "-- Dòng 11–20\n",
    "('ED0011', 'Nhân viên 11', DATE('1997-01-11'), 'Male',   'nv11@example.com', '0901000011', 'Đà Lạt',     'IT',        'BA',        12500000.00, 1.2, 'active',   DATE('2023-01-05'), NULL,          'HRM', current_timestamp(), 2025, 7, 'hash_dummy', 'INSERT', TIMESTAMP('2025-07-21 12:10:00')),\n",
    "('ED0012', 'Nhân viên 12', DATE('1989-02-02'), 'Female', 'nv12@example.com', '0901000012', 'Huế',        'Finance',   'Controller',13500000.00, 1.3, 'active',   DATE('2019-09-09'), NULL,          'ERP', current_timestamp(), 2025, 7, 'hash_dummy', 'INSERT', TIMESTAMP('2025-07-22 08:00:00')),\n",
    "('ED0013', 'Nhân viên 13', DATE('1994-03-14'), 'Male',   'nv13@example.com', '0901000013', 'Hà Nội',     'Sales',     'Sales Rep',  9800000.00,  1.1, 'active', DATE('2020-07-01'), DATE('2024-02-28'), 'ERP', current_timestamp(), 2025, 7, 'hash_dummy', 'INSERT', TIMESTAMP('2025-07-18 17:45:00')),\n",
    "('ED0014', 'Nhân viên 14', DATE('1992-04-25'), 'Female', 'nv14@example.com', '0901000014', 'Nghệ An',    'Marketing', 'SEO',        8800000.00,  1.0, 'active',   DATE('2023-04-01'), NULL,          'HRM', current_timestamp(), 2025, 7, 'hash_dummy', 'INSERT', TIMESTAMP('2025-07-19 09:00:00')),\n",
    "('ED0015', 'Nhân viên 15', DATE('1986-06-12'), 'Male',   'nv15@example.com', '0901000015', 'HCM',        'Finance',   'CFO',       25000000.00, 1.8, 'active',   DATE('2010-01-01'), NULL,          'ERP', current_timestamp(), 2025, 7, 'hash_dummy', 'INSERT', TIMESTAMP('2025-07-24 08:30:00')),\n",
    "-- Dòng 16–40: tiếp theo...\n",
    "('ED0016', 'Nhân viên 16', DATE('1991-07-07'), 'Female', 'nv16@example.com', '0901000016', 'Quảng Nam',  'HR',        'HR Staff',   9700000.00,  1.0, 'active',   DATE('2023-02-10'), NULL,          'HRM', current_timestamp(), 2025, 7, 'hash_dummy', 'INSERT', TIMESTAMP('2025-07-23 10:00:00')),\n",
    "('ED0017', 'Nhân viên 17', DATE('1993-08-08'), 'Male',   'nv17@example.com', '0901000017', 'Đồng Nai',   'IT',        'Dev',       14500000.00, 1.3, 'active',   DATE('2021-10-01'), NULL,          'ERP', current_timestamp(), 2025, 7, 'hash_dummy', 'INSERT', TIMESTAMP('2025-07-23 11:00:00')),\n",
    "('ED0018', 'Nhân viên 18', DATE('1987-09-09'), 'Female', 'nv18@example.com', '0901000018', 'Hà Tĩnh',    'Finance',   'Accountant',11500000.00, 1.2, 'active', DATE('2016-01-15'), DATE('2024-01-15'), 'ERP', current_timestamp(), 2025, 7, 'hash_dummy', 'INSERT', TIMESTAMP('2025-07-22 13:00:00')),\n",
    "('ED0019', 'Nhân viên 19', DATE('1995-10-10'), 'Male',   'nv19@example.com', '0901000019', 'TP.HCM',     'Marketing', 'Content',    9000000.00,  1.0, 'active',   DATE('2024-03-01'), NULL,          'HRM', current_timestamp(), 2025, 7, 'hash_dummy', 'INSERT', TIMESTAMP('2025-07-21 15:00:00')),\n",
    "('ED0020', 'Nhân viên 20', DATE('1999-11-11'), 'Female', 'nv20@example.com', '0901000020', 'Bình Phước', 'Sales',     'Sales Rep', 10000000.00, 1.1, 'active',   DATE('2022-06-10'), NULL,          'ERP', current_timestamp(), 2025, 7, 'hash_dummy', 'INSERT', TIMESTAMP('2025-07-20 09:00:00')),\n",
    "('ED0021', 'Nhân viên 21', DATE('1984-12-12'), 'Male',   'nv21@example.com', '0901000021', 'Đà Nẵng',    'IT',        'Tech Lead', 18000000.00, 1.6, 'active',   DATE('2012-04-20'), NULL,          'ERP', current_timestamp(), 2025, 7, 'hash_dummy', 'INSERT', TIMESTAMP('2025-07-20 14:00:00')),\n",
    "('ED0022', 'Nhân viên 22', DATE('1990-01-01'), 'Female', 'nv22@example.com', '0901000022', 'Hà Nội',     'HR',        'Recruiter', 10500000.00, 1.1, 'suspended', DATE('2020-09-01'), NULL,         'HRM', current_timestamp(), 2025, 7, 'hash_dummy', 'INSERT', TIMESTAMP('2025-07-19 08:00:00')),\n",
    "('ED0023', 'Nhân viên 23', DATE('1992-02-02'), 'Female',  'nv23@example.com', '0901000023', 'TP.HCM',     'Finance',   'Controller',14000000.00, 1.3, 'active',   DATE('2021-11-01'), NULL,          'ERP', current_timestamp(), 2025, 7, 'hash_dummy', 'INSERT', TIMESTAMP('2025-07-18 10:30:00')),\n",
    "('ED0024', 'Nhân viên 24', DATE('1988-03-03'), 'Male',   'nv24@example.com', '0901000024', 'Quảng Ngãi', 'Sales',     'Sales Rep', 9800000.00,  1.0, 'active', DATE('2018-08-01'), DATE('2023-09-30'), 'ERP', current_timestamp(), 2025, 7, 'hash_dummy', 'INSERT', TIMESTAMP('2025-07-22 12:00:00')),\n",
    "('ED0025', 'Nhân viên 25', DATE('1994-04-04'), 'Female', 'nv25@example.com', '0901000025', 'Hải Phòng',  'Marketing', 'PR',         9200000.00,  1.0, 'active',   DATE('2023-08-01'), NULL,          'HRM', current_timestamp(), 2025, 7, 'hash_dummy', 'INSERT', TIMESTAMP('2025-07-24 10:00:00')),\n",
    "('ED0026', 'Nhân viên 26', DATE('1996-05-05'), 'Male',   'nv26@example.com', '0901000026', 'HCM',        'IT',        'QA',        11000000.00, 1.2, 'active',   DATE('2023-02-01'), NULL,          'HRM', current_timestamp(), 2025, 7, 'hash_dummy', 'INSERT', TIMESTAMP('2025-07-24 10:30:00')),\n",
    "('ED0027', 'Nhân viên 27', DATE('1997-06-06'), 'Female', 'nv27@example.com', '0901000027', 'Huế',        'HR',        'HRBP',      13000000.00, 1.3, 'active',   DATE('2023-03-01'), NULL,          'HRM', current_timestamp(), 2025, 7, 'hash_dummy', 'INSERT', TIMESTAMP('2025-07-24 11:00:00')),\n",
    "('ED0028', 'Nhân viên 28', DATE('1985-07-07'), 'Male',   'nv28@example.com', '0901000028', 'HCM',        'Finance',   'CFO',       27000000.00, 1.9, 'active',   DATE('2010-02-01'), NULL,          'ERP', current_timestamp(), 2025, 7, 'hash_dummy', 'INSERT', TIMESTAMP('2025-07-24 12:00:00')),\n",
    "('ED0029', 'Nhân viên 29', DATE('1993-08-08'), 'Female',  'nv29@example.com', '0901000029', 'Cần Thơ',    'Marketing', 'Research',   9100000.00,  1.0, 'suspended', DATE('2021-06-01'), NULL,         'HRM', current_timestamp(), 2025, 7, 'hash_dummy', 'INSERT', TIMESTAMP('2025-07-24 12:30:00')),\n",
    "('ED0030', 'Nhân viên 30', DATE('1990-09-09'), 'Female', 'nv30@example.com', '0901000030', 'Hà Nội',     'Sales',     'Manager',   17000000.00, 1.4, 'active',   DATE('2017-05-01'), NULL,          'ERP', current_timestamp(), 2025, 7, 'hash_dummy', 'INSERT', TIMESTAMP('2025-07-24 13:00:00')),('ED0031', 'Nhân viên 31', DATE('1986-10-10'), 'Male',   'nv31@example.com', '0901000031', 'TP.HCM',     'IT',        'SysAdmin',   15000000.00, 1.3, 'active',   DATE('2015-04-01'), NULL,          'ERP', current_timestamp(), 2025, 7, 'hash_dummy', 'INSERT', TIMESTAMP('2025-07-23 10:00:00')),\n",
    "('ED0032', 'Nhân viên 32', DATE('1998-11-11'), 'Female', 'nv32@example.com', '0901000032', 'Đắk Lắk',    'Marketing', 'Designer',    8500000.00,  1.0, 'active',   DATE('2024-01-10'), NULL,          'HRM', current_timestamp(), 2025, 7, 'hash_dummy', 'INSERT', TIMESTAMP('2025-07-22 16:00:00')),\n",
    "('ED0033', 'Nhân viên 33', DATE('1992-12-12'), 'Male',   'nv33@example.com', '0901000033', 'Bình Định',  'Finance',   'Auditor',    12000000.00, 1.2, 'active', DATE('2019-03-01'), DATE('2024-05-31'), 'ERP', current_timestamp(), 2025, 7, 'hash_dummy', 'INSERT', TIMESTAMP('2025-07-21 09:00:00')),\n",
    "('ED0034', 'Nhân viên 34', DATE('1995-01-01'), 'Female', 'nv34@example.com', '0901000034', 'TP.HCM',     'Sales',     'Telesales',   8800000.00,  1.0, 'active',   DATE('2023-05-01'), NULL,          'HRM', current_timestamp(), 2025, 7, 'hash_dummy', 'INSERT', TIMESTAMP('2025-07-20 15:00:00')),\n",
    "('ED0035', 'Nhân viên 35', DATE('1987-02-02'), 'Male',   'nv35@example.com', '0901000035', 'Long An',    'IT',        'DevOps',     16500000.00, 1.4, 'active',   DATE('2020-10-01'), NULL,          'ERP', current_timestamp(), 2025, 7, 'hash_dummy', 'INSERT', TIMESTAMP('2025-07-19 08:00:00')),\n",
    "('ED0036', 'Nhân viên 36', DATE('1991-03-03'), 'Female', 'nv36@example.com', '0901000036', 'Hà Nội',     'Finance',   'Accountant',11000000.00, 1.1, 'suspended', DATE('2019-01-01'), NULL,         'ERP', current_timestamp(), 2025, 7, 'hash_dummy', 'INSERT', TIMESTAMP('2025-07-18 10:00:00')),\n",
    "('ED0037', 'Nhân viên 37', DATE('1993-04-04'), 'Male',   'nv37@example.com', '0901000037', 'Bạc Liêu',   'Marketing', 'SEO',         9500000.00,  1.0, 'active',   DATE('2023-04-01'), NULL,          'HRM', current_timestamp(), 2025, 7, 'hash_dummy', 'INSERT', TIMESTAMP('2025-07-17 13:00:00')),\n",
    "('ED0038', 'Nhân viên 38', DATE('1999-05-05'), 'Male',  'nv38@example.com', '0901000038', 'TP.HCM',     'IT',        'Intern',      6000000.00,  0.8, 'active',   DATE('2025-06-01'), NULL,          'HRM', current_timestamp(), 2025, 7, 'hash_dummy', 'INSERT', TIMESTAMP('2025-07-16 09:30:00')),\n",
    "('ED0039', 'Nhân viên 39', DATE('1984-06-06'), 'Male',   'nv39@example.com', '0901000039', 'Đà Nẵng',    'Sales',     'Head',       20000000.00, 1.5, 'active',   DATE('2011-12-01'), NULL,          'ERP', current_timestamp(), 2025, 7, 'hash_dummy', 'INSERT', TIMESTAMP('2025-07-15 11:00:00')),\n",
    "('ED0040', 'Nhân viên 40', DATE('1989-07-07'), 'Female', 'nv40@example.com', '0901000040', 'Hà Nội',     'HR',        'HRM',        16000000.00, 1.4, 'active',   DATE('2016-07-01'), NULL,          'HRM', current_timestamp(), 2025, 7, 'hash_dummy', 'INSERT', TIMESTAMP('2025-07-14 10:00:00'));\n",
    "\n"
   ]
  },
  {
   "cell_type": "code",
   "execution_count": 0,
   "metadata": {
    "application/vnd.databricks.v1+cell": {
     "cellMetadata": {
      "byteLimit": 2048000,
      "implicitDf": true,
      "rowLimit": 10000
     },
     "inputWidgets": {},
     "nuid": "d7ce13f7-83be-437e-be21-a4b0309f54ba",
     "showTitle": false,
     "tableResultSettingsMap": {},
     "title": ""
    }
   },
   "outputs": [],
   "source": [
    "%sql\n",
    "INSERT INTO catproject_catalog.ecom_bronze.product_raw (\n",
    "  product_id, product_name, category, brand, description,\n",
    "  price, cost, currency, status, created_at, updated_at,\n",
    "  source_system, ingestion_time, ingestion_year, ingestion_month,\n",
    "  operation_type, record_hash, source_updated_at\n",
    ")\n",
    "VALUES\n",
    "('PD000001', 'Sản phẩm 1',  'Electronics', 'Sony',      'Loa bluetooth mini',       79.99,  50.00, 'USD', 'active',   current_timestamp(), NULL, 'ERP', current_timestamp(), 2025, 7, 'INSERT', 'hash1', current_timestamp()),\n",
    "('PD000002', 'Sản phẩm 2',  'Electronics', 'Samsung',   'Tivi thông minh 55 inch',  199.99, 150.00, 'USD', 'active',   current_timestamp(), NULL, 'ERP', current_timestamp(), 2025, 7, 'INSERT', 'hash2', current_timestamp()),\n",
    "('PD000003', 'Sản phẩm 3',  'Home',        'Panasonic', 'Máy lọc không khí',        120.00, 85.00,  'USD', 'active',   current_timestamp(), NULL, 'ERP', current_timestamp(), 2025, 7, 'INSERT', 'hash3', current_timestamp()),\n",
    "('PD000004', 'Sản phẩm 4',  'Home',        'Sharp',     'Lò vi sóng 23L',           95.50,  70.00,  'USD', 'active',   current_timestamp(), NULL, 'ERP', current_timestamp(), 2025, 7, 'INSERT', 'hash4', current_timestamp()),\n",
    "('PD000005', 'Sản phẩm 5',  'Appliances',  'Toshiba',   'Máy giặt cửa trước',      180.00, 130.00, 'USD', 'active',   current_timestamp(), NULL, 'ERP', current_timestamp(), 2025, 7, 'INSERT', 'hash5', current_timestamp()),\n",
    "('PD000006', 'Sản phẩm 6',  'Fashion',     'Nike',      'Giày thể thao nam',        89.99,  60.00,  'USD', 'active',   current_timestamp(), NULL, 'HRM', current_timestamp(), 2025, 7, 'INSERT', 'hash6', current_timestamp()),\n",
    "('PD000007', 'Sản phẩm 7',  'Fashion',     'Adidas',    'Áo khoác gió nữ',          59.00,  35.00,  'USD', 'active',   current_timestamp(), NULL, 'ERP', current_timestamp(), 2025, 7, 'INSERT', 'hash7', current_timestamp()),\n",
    "('PD000008', 'Sản phẩm 8',  'Books',       'NXB Trẻ',   'Sách kỹ năng sống',        12.00,  5.00,   'USD', 'active',   current_timestamp(), NULL, 'CMS', current_timestamp(), 2025, 7, 'INSERT', 'hash8', current_timestamp()),\n",
    "('PD000009', 'Sản phẩm 9',  'Toys',        'Lego',      'Bộ xếp hình 1000 mảnh',    49.90,  30.00,  'USD', 'active',   current_timestamp(), NULL, 'ERP', current_timestamp(), 2025, 7, 'INSERT', 'hash9', current_timestamp()),\n",
    "('PD000010', 'Sản phẩm 10', 'Beauty',      'L\\'Oreal',  'Kem dưỡng trắng da',       25.50,  12.00,  'USD', 'active',   current_timestamp(), NULL, 'HRM', current_timestamp(), 2025, 7, 'INSERT', 'hash10', current_timestamp()),\n",
    "('PD000011', 'Sản phẩm 11', 'Beauty',      'Maybelline','Son môi lì cao cấp',       19.99,  8.00,   'USD', 'active',   current_timestamp(), NULL, 'ERP', current_timestamp(), 2025, 7, 'INSERT', 'hash11', current_timestamp()),\n",
    "('PD000012', 'Sản phẩm 12', 'Stationery',  'Thiên Long','Bút bi nước cao cấp',      2.50,   1.00,   'USD', 'active',   current_timestamp(), NULL, 'CMS', current_timestamp(), 2025, 7, 'INSERT', 'hash12', current_timestamp()),\n",
    "('PD000013', 'Sản phẩm 13', 'Computers',   'Apple',     'Macbook Air M1',           200.00, 150.00, 'USD', 'active',   current_timestamp(), NULL, 'ERP', current_timestamp(), 2025, 7, 'INSERT', 'hash13', current_timestamp()),\n",
    "('PD000014', 'Sản phẩm 14', 'Computers',   'Dell',      'Laptop văn phòng',         135.00, 100.00, 'USD', 'active',   current_timestamp(), NULL, 'ERP', current_timestamp(), 2025, 7, 'INSERT', 'hash14', current_timestamp()),\n",
    "('PD000015', 'Sản phẩm 15', 'Accessories', 'Anker',     'Sạc dự phòng 20000mAh',    39.99,  22.00,  'USD', 'active',   current_timestamp(), NULL, 'CMS', current_timestamp(), 2025, 7, 'INSERT', 'hash15', current_timestamp()),\n",
    "('PD000016', 'Sản phẩm 16', 'Food',        'Orion',     'Bánh Chocopie hộp lớn',    6.90,   3.50,   'USD', 'active',   current_timestamp(), NULL, 'ERP', current_timestamp(), 2025, 7, 'INSERT', 'hash16', current_timestamp()),\n",
    "('PD000017', 'Sản phẩm 17', 'Food',        'Vinamilk',  'Sữa tươi hộp 1L',          1.20,   0.80,   'USD', 'active',   current_timestamp(), NULL, 'ERP', current_timestamp(), 2025, 7, 'INSERT', 'hash17', current_timestamp()),\n",
    "('PD000018', 'Sản phẩm 18', 'Health',      'Omron',     'Máy đo huyết áp tự động',  69.00,  45.00,  'USD', 'active',   current_timestamp(), NULL, 'ERP', current_timestamp(), 2025, 7, 'INSERT', 'hash18', current_timestamp()),\n",
    "('PD000019', 'Sản phẩm 19', 'Auto',        'Toyota',    'Lốp xe dự phòng nhỏ',      99.99,  60.00,  'USD', 'active',   current_timestamp(), NULL, 'ERP', current_timestamp(), 2025, 7, 'INSERT', 'hash19', current_timestamp()),\n",
    "('PD000020', 'Sản phẩm 20', 'Garden',      'Fiskars',   'Kéo cắt cành chuyên dụng', 14.00,  9.00,   'USD', 'active',   current_timestamp(), NULL, 'ERP', current_timestamp(), 2025, 7, 'INSERT', 'hash20', current_timestamp());\n"
   ]
  }
 ],
 "metadata": {
  "application/vnd.databricks.v1+notebook": {
   "computePreferences": null,
   "dashboards": [],
   "environmentMetadata": {
    "base_environment": "",
    "environment_version": "2"
   },
   "inputWidgetPreferences": null,
   "language": "python",
   "notebookMetadata": {
    "mostRecentlyExecutedCommandWithImplicitDF": {
     "commandId": 7658017846845623,
     "dataframes": [
      "_sqldf"
     ]
    },
    "pythonIndentUnit": 4
   },
   "notebookName": "Data Mock Init",
   "widgets": {}
  },
  "language_info": {
   "name": "python"
  }
 },
 "nbformat": 4,
 "nbformat_minor": 0
}

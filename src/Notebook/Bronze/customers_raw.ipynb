{
 "cells": [
  {
   "cell_type": "code",
   "execution_count": 0,
   "metadata": {
    "application/vnd.databricks.v1+cell": {
     "cellMetadata": {
      "byteLimit": 2048000,
      "implicitDf": true,
      "rowLimit": 10000
     },
     "inputWidgets": {},
     "nuid": "7a1cc7fb-694d-47e4-8ba3-7dfe2dec103f",
     "showTitle": false,
     "tableResultSettingsMap": {},
     "title": ""
    }
   },
   "outputs": [],
   "source": [
    "%sql\n",
    "USE CATALOG catproject_catalog;\n",
    "USE SCHEMA ecom_bronze;"
   ]
  },
  {
   "cell_type": "code",
   "execution_count": 0,
   "metadata": {
    "application/vnd.databricks.v1+cell": {
     "cellMetadata": {
      "byteLimit": 2048000,
      "implicitDf": true,
      "rowLimit": 10000
     },
     "inputWidgets": {},
     "nuid": "ce1d5b04-d6ca-4957-999b-701ed0c3fb48",
     "showTitle": false,
     "tableResultSettingsMap": {},
     "title": ""
    }
   },
   "outputs": [],
   "source": [
    "%sql\n",
    "CREATE TABLE ecom_bronze.customer_raw (\n",
    "  customer_id         STRING,               -- Mã khách hàng duy nhất\n",
    "  full_name           STRING,               -- Họ tên đầy đủ\n",
    "  date_of_birth       DATE,                 -- Ngày sinh\n",
    "  gender              STRING,               -- Giới tính\n",
    "  email               STRING,               -- Địa chỉ email\n",
    "  phone_number        STRING,               -- Số điện thoại\n",
    "  address             STRING,               -- Địa chỉ thường trú\n",
    "  city                STRING,               -- Thành phố\n",
    "  country             STRING,               -- Quốc gia\n",
    "  registration_date   TIMESTAMP,            -- Ngày đăng ký tài khoản\n",
    "  loyalty_level       STRING,               -- Hạng thành viên: 'Silver', 'Gold', 'Platinum'\n",
    "  status              STRING,               -- Trạng thái tài khoản: 'active', 'inactive', 'blocked'\n",
    "  source_system       STRING,               -- Nguồn dữ liệu (CRM, Web, POS,...)\n",
    "  ingestion_time      TIMESTAMP,            -- Thời điểm ingest\n",
    "  ingestion_year      INT,                  -- Năm ingest\n",
    "  ingestion_month     INT,                  -- Tháng ingest\n",
    "  operation_type      STRING,               -- INSERT/UPDATE/DELETE\n",
    "  record_hash         STRING,               -- Hash dùng kiểm tra thay đổi record\n",
    "  source_updated_at   TIMESTAMP             -- Timestamp lần cuối cập nhật tại source\n",
    ")\n",
    "USING DELTA\n",
    "PARTITIONED BY (ingestion_year, ingestion_month);\n",
    "TBLPROPERTIES (\n",
    "  'delta.enableChangeDataFeed' = true,\n",
    "  'comment' = 'Bảng raw chứa thông tin khách hàng từ hệ thống nguồn (ERP, CMS, POS)'\n",
    ");"
   ]
  },
  {
   "cell_type": "markdown",
   "metadata": {
    "application/vnd.databricks.v1+cell": {
     "cellMetadata": {},
     "inputWidgets": {},
     "nuid": "146f6161-7681-4945-bd6d-285da46c2709",
     "showTitle": false,
     "tableResultSettingsMap": {},
     "title": ""
    }
   },
   "source": [
    "Tạo Comment cho các cột của bảng"
   ]
  },
  {
   "cell_type": "code",
   "execution_count": 0,
   "metadata": {
    "application/vnd.databricks.v1+cell": {
     "cellMetadata": {
      "byteLimit": 2048000,
      "implicitDf": true,
      "rowLimit": 10000
     },
     "inputWidgets": {},
     "nuid": "7afe040e-162e-4b4d-a01b-090aed731ece",
     "showTitle": false,
     "tableResultSettingsMap": {},
     "title": ""
    }
   },
   "outputs": [],
   "source": [
    "%sql\n",
    "COMMENT ON TABLE ecom_bronze.customer_raw IS 'Dữ liệu thô về khách hàng, ingest từ hệ thống CRM, web, POS,...';\n",
    "\n",
    "COMMENT ON COLUMN ecom_bronze.customer_raw.customer_id IS 'Mã định danh duy nhất của khách hàng';\n",
    "COMMENT ON COLUMN ecom_bronze.customer_raw.full_name IS 'Họ và tên khách hàng';\n",
    "COMMENT ON COLUMN ecom_bronze.customer_raw.date_of_birth IS 'Ngày sinh khách hàng';\n",
    "COMMENT ON COLUMN ecom_bronze.customer_raw.gender IS 'Giới tính: Nam, Nữ, Khác';\n",
    "COMMENT ON COLUMN ecom_bronze.customer_raw.email IS 'Địa chỉ email khách hàng';\n",
    "COMMENT ON COLUMN ecom_bronze.customer_raw.phone_number IS 'Số điện thoại';\n",
    "COMMENT ON COLUMN ecom_bronze.customer_raw.address IS 'Địa chỉ cư trú';\n",
    "COMMENT ON COLUMN ecom_bronze.customer_raw.city IS 'Thành phố khách hàng sinh sống';\n",
    "COMMENT ON COLUMN ecom_bronze.customer_raw.country IS 'Quốc gia của khách hàng';\n",
    "COMMENT ON COLUMN ecom_bronze.customer_raw.registration_date IS 'Thời điểm đăng ký tài khoản';\n",
    "COMMENT ON COLUMN ecom_bronze.customer_raw.loyalty_level IS 'Cấp độ thành viên: Silver, Gold, Platinum';\n",
    "COMMENT ON COLUMN ecom_bronze.customer_raw.status IS 'Trạng thái tài khoản: active, inactive, blocked';\n",
    "COMMENT ON COLUMN ecom_bronze.customer_raw.source_system IS 'Hệ thống nguồn cung cấp dữ liệu';\n",
    "COMMENT ON COLUMN ecom_bronze.customer_raw.ingestion_time IS 'Thời điểm ingest dữ liệu vào lakehouse';\n",
    "COMMENT ON COLUMN ecom_bronze.customer_raw.ingestion_year IS 'Năm ingest dữ liệu';\n",
    "COMMENT ON COLUMN ecom_bronze.customer_raw.ingestion_month IS 'Tháng ingest dữ liệu';\n",
    "COMMENT ON COLUMN ecom_bronze.customer_raw.operation_type IS 'Loại thao tác trên dữ liệu: INSERT/UPDATE/DELETE';\n",
    "COMMENT ON COLUMN ecom_bronze.customer_raw.record_hash IS 'Hash của bản ghi để kiểm tra thay đổi';\n",
    "COMMENT ON COLUMN ecom_bronze.customer_raw.source_updated_at IS 'Thời điểm cập nhật cuối cùng ở nguồn';\n"
   ]
  },
  {
   "cell_type": "markdown",
   "metadata": {
    "application/vnd.databricks.v1+cell": {
     "cellMetadata": {},
     "inputWidgets": {},
     "nuid": "4c185a13-6f07-4fe4-a148-bdfc3b4fdaf6",
     "showTitle": false,
     "tableResultSettingsMap": {},
     "title": ""
    }
   },
   "source": [
    "Tạo các Constraint dữ liệu"
   ]
  },
  {
   "cell_type": "code",
   "execution_count": 0,
   "metadata": {
    "application/vnd.databricks.v1+cell": {
     "cellMetadata": {
      "byteLimit": 2048000,
      "implicitDf": true,
      "rowLimit": 10000
     },
     "inputWidgets": {},
     "nuid": "6395af9b-ece4-4abc-91fd-061c799221b8",
     "showTitle": false,
     "tableResultSettingsMap": {},
     "title": ""
    }
   },
   "outputs": [],
   "source": [
    "%sql\n",
    "ALTER TABLE ecom_bronze.customer_raw ALTER COLUMN customer_id SET NOT NULL;\n",
    "ALTER TABLE ecom_bronze.customer_raw ALTER COLUMN full_name SET NOT NULL;\n",
    "ALTER TABLE ecom_bronze.customer_raw ALTER COLUMN date_of_birth SET NOT NULL;\n",
    "ALTER TABLE ecom_bronze.customer_raw ALTER COLUMN gender SET NOT NULL;\n",
    "ALTER TABLE ecom_bronze.customer_raw ALTER COLUMN email SET NOT NULL;\n",
    "ALTER TABLE ecom_bronze.customer_raw ALTER COLUMN registration_date SET NOT NULL;\n",
    "ALTER TABLE ecom_bronze.customer_raw ALTER COLUMN loyalty_level SET NOT NULL;\n",
    "ALTER TABLE ecom_bronze.customer_raw ALTER COLUMN status SET NOT NULL;\n",
    "ALTER TABLE ecom_bronze.customer_raw ALTER COLUMN source_system SET NOT NULL;\n",
    "ALTER TABLE ecom_bronze.customer_raw ALTER COLUMN ingestion_time SET NOT NULL;\n",
    "\n",
    "-- Trạng thái hợp lệ\n",
    "ALTER TABLE ecom_bronze.customer_raw \n",
    "ADD CONSTRAINT valid_status CHECK (status IN ('active', 'inactive', 'blocked'));\n",
    "\n",
    "-- Hạng khách hàng hợp lệ\n",
    "ALTER TABLE ecom_bronze.customer_raw \n",
    "ADD CONSTRAINT valid_loyalty CHECK (loyalty_level IN ('Silver', 'Gold', 'Platinum'));\n",
    "\n",
    "ALTER TABLE ecom_bronze.customer_raw \n",
    "ADD CONSTRAINT gender_check CHECK (gender IN ('male', 'female'));\n",
    "\n",
    "-- Không cho phép đăng ký sau thời điểm hiện tại\n",
    "ALTER TABLE ecom_bronze.customer_raw \n",
    "ADD CONSTRAINT valid_registration_date CHECK (registration_date <= current_timestamp());\n",
    "\n",
    "ALTER TABLE ecom_bronze.customer_raw \n",
    "ADD CONSTRAINT valid_ingestion_date CHECK (ingestion_time <= current_timestamp());\n",
    "\n",
    "-- Không cho ngày sinh nhật sau thời điểm hiện tại\n",
    "ALTER TABLE ecom_bronze.customer_raw \n",
    "ADD CONSTRAINT birthday_check CHECK (date_of_birth <= current_timestamp());\n",
    "\n",
    "-- Kiểm tra email có dấu @ đơn giản\n",
    "ALTER TABLE ecom_bronze.customer_raw \n",
    "ADD CONSTRAINT valid_email_format CHECK (email LIKE '%@%');\n"
   ]
  }
 ],
 "metadata": {
  "application/vnd.databricks.v1+notebook": {
   "computePreferences": null,
   "dashboards": [],
   "environmentMetadata": null,
   "inputWidgetPreferences": null,
   "language": "python",
   "notebookMetadata": {
    "mostRecentlyExecutedCommandWithImplicitDF": {
     "commandId": 4560499613048706,
     "dataframes": [
      "_sqldf"
     ]
    },
    "pythonIndentUnit": 4
   },
   "notebookName": "customers_raw",
   "widgets": {}
  },
  "language_info": {
   "name": "python"
  }
 },
 "nbformat": 4,
 "nbformat_minor": 0
}

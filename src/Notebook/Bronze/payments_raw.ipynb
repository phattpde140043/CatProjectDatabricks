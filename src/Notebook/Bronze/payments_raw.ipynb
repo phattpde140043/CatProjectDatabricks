{
 "cells": [
  {
   "cell_type": "code",
   "execution_count": 0,
   "metadata": {
    "application/vnd.databricks.v1+cell": {
     "cellMetadata": {
      "byteLimit": 2048000,
      "implicitDf": true,
      "rowLimit": 10000
     },
     "inputWidgets": {},
     "nuid": "d663c5b3-95cc-4447-bc63-f7e319a49a4d",
     "showTitle": false,
     "tableResultSettingsMap": {},
     "title": ""
    }
   },
   "outputs": [],
   "source": [
    "%sql\n",
    "USE CATALOG catproject_catalog;"
   ]
  },
  {
   "cell_type": "code",
   "execution_count": 0,
   "metadata": {
    "application/vnd.databricks.v1+cell": {
     "cellMetadata": {
      "byteLimit": 2048000,
      "implicitDf": true,
      "rowLimit": 10000
     },
     "inputWidgets": {},
     "nuid": "c42c0b54-10bd-448a-9f80-1429598d927a",
     "showTitle": false,
     "tableResultSettingsMap": {},
     "title": ""
    }
   },
   "outputs": [],
   "source": [
    "%sql\n",
    "USE SCHEMA ecom_bronze;"
   ]
  },
  {
   "cell_type": "code",
   "execution_count": 0,
   "metadata": {
    "application/vnd.databricks.v1+cell": {
     "cellMetadata": {
      "byteLimit": 2048000,
      "implicitDf": true,
      "rowLimit": 10000
     },
     "inputWidgets": {},
     "nuid": "a0dd3c0d-cf98-4a12-b30d-e57929d8eb46",
     "showTitle": false,
     "tableResultSettingsMap": {},
     "title": ""
    }
   },
   "outputs": [],
   "source": [
    "%sql\n",
    "CREATE TABLE ecom_bronze.payment_raw (\n",
    "  payment_id           STRING,         -- Mã dòng tiền\n",
    "  payment_type         STRING,         -- inbound / outbound\n",
    "  payment_category     STRING,         -- sale, purchase, salary, tax, refund, etc.\n",
    "  invoice_number       STRING,         -- Mã hóa đơn liên quan\n",
    "  invoice_type         STRING,         -- import / export\n",
    "  partner_id           STRING,         -- Mã khách hàng hoặc nhà cung cấp\n",
    "  partner_name         STRING,\n",
    "  amount               DECIMAL(18, 2), -- Số tiền giao dịch\n",
    "  currency             STRING,\n",
    "  payment_method       STRING,         -- cash, bank_transfer, credit_card, etc.\n",
    "  payment_status       STRING,         -- pending, completed, failed\n",
    "  payment_date         DATE,\n",
    "  description          STRING,\n",
    "  source_system        STRING,\n",
    "  ingestion_time       TIMESTAMP,\n",
    "  ingestion_year       INT,\n",
    "  ingestion_month      INT,\n",
    "  operation_type       STRING,\n",
    "  record_hash          STRING,\n",
    "  source_updated_at    TIMESTAMP\n",
    ")\n",
    "USING DELTA\n",
    "PARTITIONED BY (ingestion_year, ingestion_month)\n",
    "TBLPROPERTIES (\n",
    "  'delta.enableChangeDataFeed' = 'true')"
   ]
  },
  {
   "cell_type": "markdown",
   "metadata": {
    "application/vnd.databricks.v1+cell": {
     "cellMetadata": {},
     "inputWidgets": {},
     "nuid": "2166520a-bcef-4af8-b634-b973b6b85c0f",
     "showTitle": false,
     "tableResultSettingsMap": {},
     "title": ""
    }
   },
   "source": [
    "Tạo Comment cho các cột"
   ]
  },
  {
   "cell_type": "code",
   "execution_count": 0,
   "metadata": {
    "application/vnd.databricks.v1+cell": {
     "cellMetadata": {
      "byteLimit": 2048000,
      "implicitDf": true,
      "rowLimit": 10000
     },
     "inputWidgets": {},
     "nuid": "5d55f21f-6101-43f9-bea7-55b464c250fd",
     "showTitle": false,
     "tableResultSettingsMap": {},
     "title": ""
    }
   },
   "outputs": [],
   "source": [
    "%sql\n",
    "COMMENT ON COLUMN ecom_bronze.payment_raw.payment_id IS 'Mã định danh duy nhất cho dòng tiền';\n",
    "COMMENT ON COLUMN ecom_bronze.payment_raw.payment_type IS 'Phân loại dòng tiền: inbound (thu) hoặc outbound (chi)';\n",
    "COMMENT ON COLUMN ecom_bronze.payment_raw.payment_category IS 'Danh mục của dòng tiền: sale, purchase, salary, tax, refund,...';\n",
    "COMMENT ON COLUMN ecom_bronze.payment_raw.invoice_number IS 'Mã số hóa đơn liên quan đến giao dịch';\n",
    "COMMENT ON COLUMN ecom_bronze.payment_raw.invoice_type IS 'Loại hóa đơn: import (hóa đơn mua) / export (hóa đơn bán)';\n",
    "COMMENT ON COLUMN ecom_bronze.payment_raw.partner_id IS 'Đối tác liên quan đến thanh toán (khách hàng/nhà cung cấp)';\n",
    "COMMENT ON COLUMN ecom_bronze.payment_raw.partner_name IS 'Tên đối tác thanh toán';\n",
    "COMMENT ON COLUMN ecom_bronze.payment_raw.amount IS 'Số tiền giao dịch';\n",
    "COMMENT ON COLUMN ecom_bronze.payment_raw.currency IS 'Loại tiền tệ sử dụng';\n",
    "COMMENT ON COLUMN ecom_bronze.payment_raw.payment_method IS 'Phương thức thanh toán';\n",
    "COMMENT ON COLUMN ecom_bronze.payment_raw.payment_status IS 'Trạng thái giao dịch';\n",
    "COMMENT ON COLUMN ecom_bronze.payment_raw.payment_date IS 'Ngày thực hiện thanh toán';\n",
    "COMMENT ON COLUMN ecom_bronze.payment_raw.description IS 'Mô tả chi tiết dòng tiền';\n",
    "COMMENT ON COLUMN ecom_bronze.payment_raw.source_system IS 'Hệ thống nguồn ghi nhận dữ liệu';\n",
    "COMMENT ON COLUMN ecom_bronze.payment_raw.ingestion_time IS 'Thời điểm đẩy dữ liệu lên warehouse';\n",
    "COMMENT ON COLUMN ecom_bronze.payment_raw.operation_type IS 'Loại thao tác ghi nhận: insert, update, delete';\n",
    "COMMENT ON COLUMN ecom_bronze.payment_raw.record_hash IS 'Hash dùng để kiểm tra thay đổi bản ghi';\n",
    "COMMENT ON COLUMN ecom_bronze.payment_raw.source_updated_at IS 'Thời điểm cập nhật cuối cùng từ hệ thống nguồn';\n"
   ]
  },
  {
   "cell_type": "code",
   "execution_count": 0,
   "metadata": {
    "application/vnd.databricks.v1+cell": {
     "cellMetadata": {
      "byteLimit": 2048000,
      "implicitDf": true,
      "rowLimit": 10000
     },
     "inputWidgets": {},
     "nuid": "ec66d39c-d715-4fcb-965f-2115dbb45f60",
     "showTitle": false,
     "tableResultSettingsMap": {},
     "title": ""
    }
   },
   "outputs": [],
   "source": [
    "%sql\n",
    "ALTER TABLE ecom_bronze.payment_raw ALTER COLUMN payment_id SET NOT NULL;\n",
    "ALTER TABLE ecom_bronze.payment_raw ALTER COLUMN payment_type SET NOT NULL;\n",
    "ALTER TABLE ecom_bronze.payment_raw ALTER COLUMN payment_category SET NOT NULL;\n",
    "ALTER TABLE ecom_bronze.payment_raw ALTER COLUMN invoice_number SET NOT NULL;\n",
    "ALTER TABLE ecom_bronze.payment_raw ALTER COLUMN invoice_type SET NOT NULL;\n",
    "ALTER TABLE ecom_bronze.payment_raw ALTER COLUMN partner_id SET NOT NULL;\n",
    "ALTER TABLE ecom_bronze.payment_raw ALTER COLUMN partner_name SET NOT NULL;\n",
    "ALTER TABLE ecom_bronze.payment_raw ALTER COLUMN amount SET NOT NULL;\n",
    "ALTER TABLE ecom_bronze.payment_raw ALTER COLUMN currency SET NOT NULL;\n",
    "ALTER TABLE ecom_bronze.payment_raw ALTER COLUMN payment_method SET NOT NULL;\n",
    "ALTER TABLE ecom_bronze.payment_raw ALTER COLUMN payment_status SET NOT NULL;\n",
    "ALTER TABLE ecom_bronze.payment_raw ALTER COLUMN payment_date SET NOT NULL;\n",
    "ALTER TABLE ecom_bronze.payment_raw ALTER COLUMN description SET NOT NULL;\n",
    "ALTER TABLE ecom_bronze.payment_raw ALTER COLUMN source_system SET NOT NULL;\n",
    "ALTER TABLE ecom_bronze.payment_raw ALTER COLUMN ingestion_time SET NOT NULL;\n",
    "ALTER TABLE ecom_bronze.payment_raw ALTER COLUMN ingestion_year SET NOT NULL;\n",
    "ALTER TABLE ecom_bronze.payment_raw ALTER COLUMN ingestion_month SET NOT NULL;\n",
    "ALTER TABLE ecom_bronze.payment_raw ALTER COLUMN operation_type SET NOT NULL;\n",
    "ALTER TABLE ecom_bronze.payment_raw ALTER COLUMN record_hash SET NOT NULL;\n",
    "ALTER TABLE ecom_bronze.payment_raw ALTER COLUMN source_updated_at SET NOT NULL;\n",
    "\n",
    "-- payment_type phải là inbound hoặc outbound\n",
    "ALTER TABLE ecom_bronze.payment_raw\n",
    "ADD CONSTRAINT valid_payment_type\n",
    "CHECK (payment_type IN ('inbound', 'outbound'));\n",
    "\n",
    "-- payment_status chỉ chấp nhận một số giá trị xác định\n",
    "ALTER TABLE ecom_bronze.payment_raw\n",
    "ADD CONSTRAINT valid_payment_status\n",
    "CHECK (payment_status IN ('pending', 'completed', 'failed'));\n",
    "\n",
    "-- currency phải hợp lệ (ví dụ)\n",
    "ALTER TABLE ecom_bronze.payment_raw\n",
    "ADD CONSTRAINT valid_currency\n",
    "CHECK (currency IN ('USD', 'VND'));\n",
    "\n",
    "-- payment_date không thể ở tương lai\n",
    "ALTER TABLE ecom_bronze.payment_raw\n",
    "ADD CONSTRAINT valid_payment_date\n",
    "CHECK (payment_date <= current_date());\n",
    "\n",
    "-- amount phải >= 0\n",
    "ALTER TABLE ecom_bronze.payment_raw\n",
    "ADD CONSTRAINT valid_amount\n",
    "CHECK (amount >= 0);\n",
    "\n",
    "-- Kiểm tra cách thanh toán hợp lệ\n",
    "ALTER TABLE ecom_bronze.payment_raw\n",
    "ADD CONSTRAINT valid_payment_method\n",
    "CHECK (\n",
    "  payment_method IN ('cash', 'credit_card', 'bank_transfer', 'e_wallet')\n",
    ");\n",
    "\n",
    "-- ingestion_time phải nhỏ hơn thời gian hiện tại\n",
    "ALTER TABLE ecom_bronze.payment_raw\n",
    "ADD CONSTRAINT valid_ingestion_time\n",
    "CHECK (ingestion_time < current_timestamp());\n",
    "\n"
   ]
  }
 ],
 "metadata": {
  "application/vnd.databricks.v1+notebook": {
   "computePreferences": null,
   "dashboards": [],
   "environmentMetadata": null,
   "inputWidgetPreferences": null,
   "language": "python",
   "notebookMetadata": {
    "mostRecentlyExecutedCommandWithImplicitDF": {
     "commandId": 4701353315537014,
     "dataframes": [
      "_sqldf"
     ]
    },
    "pythonIndentUnit": 4
   },
   "notebookName": "payments_raw",
   "widgets": {}
  },
  "language_info": {
   "name": "python"
  }
 },
 "nbformat": 4,
 "nbformat_minor": 0
}

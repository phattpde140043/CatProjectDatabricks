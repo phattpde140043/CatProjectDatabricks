{
 "cells": [
  {
   "cell_type": "code",
   "execution_count": 0,
   "metadata": {
    "application/vnd.databricks.v1+cell": {
     "cellMetadata": {
      "byteLimit": 2048000,
      "implicitDf": true,
      "rowLimit": 10000
     },
     "inputWidgets": {},
     "nuid": "23756721-685a-4401-9bdf-27db9b8e16c5",
     "showTitle": false,
     "tableResultSettingsMap": {},
     "title": ""
    }
   },
   "outputs": [],
   "source": [
    "%sql\n",
    "USE CATALOG catproject_catalog\n"
   ]
  },
  {
   "cell_type": "code",
   "execution_count": 0,
   "metadata": {
    "application/vnd.databricks.v1+cell": {
     "cellMetadata": {
      "byteLimit": 2048000,
      "implicitDf": true,
      "rowLimit": 10000
     },
     "inputWidgets": {},
     "nuid": "a08d0389-fe90-4630-81b8-035f8c6f03ca",
     "showTitle": false,
     "tableResultSettingsMap": {},
     "title": ""
    }
   },
   "outputs": [],
   "source": [
    "%sql\n",
    "USE SCHEMA ecom_bronze"
   ]
  },
  {
   "cell_type": "code",
   "execution_count": 0,
   "metadata": {
    "application/vnd.databricks.v1+cell": {
     "cellMetadata": {
      "byteLimit": 2048000,
      "implicitDf": true,
      "rowLimit": 10000
     },
     "inputWidgets": {},
     "nuid": "f9108e5b-a1b2-48c2-883d-78f2097d4edf",
     "showTitle": false,
     "tableResultSettingsMap": {},
     "title": ""
    }
   },
   "outputs": [],
   "source": [
    "%sql\n",
    "CREATE TABLE ecom_bronze.inventory_raw (\n",
    "  inventory_id       STRING,         -- ID duy nhất cho mỗi bản ghi\n",
    "  product_id         STRING,         -- Mã sản phẩm\n",
    "  warehouse_id       STRING,         -- Mã kho (nếu doanh nghiệp có nhiều kho)\n",
    "  quantity_on_hand   INT,            -- Số lượng thực có trong kho\n",
    "  quantity_reserved  INT,            -- Đã đặt nhưng chưa xuất\n",
    "  quantity_available INT,            -- Sẵn sàng để bán = on_hand - reserved\n",
    "  unit               STRING,         -- Đơn vị tính (e.g., pcs, box)\n",
    "  snapshot_time      TIMESTAMP,      -- Thời điểm chụp trạng thái tồn kho\n",
    "  source_system      STRING,\n",
    "  ingestion_time     TIMESTAMP,\n",
    "  ingestion_year     INT,\n",
    "  ingestion_month    INT,\n",
    "  operation_type     STRING,\n",
    "  record_hash        STRING,\n",
    "  source_updated_at  TIMESTAMP\n",
    ")\n",
    "USING DELTA\n",
    "PARTITIONED BY (ingestion_year, ingestion_month);"
   ]
  },
  {
   "cell_type": "code",
   "execution_count": 0,
   "metadata": {
    "application/vnd.databricks.v1+cell": {
     "cellMetadata": {
      "byteLimit": 2048000,
      "implicitDf": true,
      "rowLimit": 10000
     },
     "inputWidgets": {},
     "nuid": "fade5906-9d0f-4afe-8b37-3c0e639e5db4",
     "showTitle": false,
     "tableResultSettingsMap": {},
     "title": ""
    }
   },
   "outputs": [],
   "source": [
    "%sql\n",
    "COMMENT ON COLUMN ecom_bronze.inventory_raw.inventory_id IS 'Mã duy nhất cho bản ghi tồn kho';\n",
    "COMMENT ON COLUMN ecom_bronze.inventory_raw.product_id IS 'Mã sản phẩm';\n",
    "COMMENT ON COLUMN ecom_bronze.inventory_raw.warehouse_id IS 'Kho chứa sản phẩm';\n",
    "COMMENT ON COLUMN ecom_bronze.inventory_raw.quantity_on_hand IS 'Số lượng có thực tế trong kho';\n",
    "COMMENT ON COLUMN ecom_bronze.inventory_raw.quantity_reserved IS 'Số lượng đã được đặt giữ chỗ';\n",
    "COMMENT ON COLUMN ecom_bronze.inventory_raw.quantity_available IS 'Số lượng có thể bán = on_hand - reserved';\n",
    "COMMENT ON COLUMN ecom_bronze.inventory_raw.unit IS 'Đơn vị tính của sản phẩm';\n",
    "COMMENT ON COLUMN ecom_bronze.inventory_raw.snapshot_time IS 'Thời điểm snapshot trạng thái tồn kho';\n",
    "COMMENT ON COLUMN ecom_bronze.inventory_raw.source_system IS 'Nguồn dữ liệu ghi nhận';\n",
    "COMMENT ON COLUMN ecom_bronze.inventory_raw.ingestion_time IS 'Thời điểm đẩy lên warehouse';\n",
    "COMMENT ON COLUMN ecom_bronze.inventory_raw.operation_type IS 'Loại thao tác ghi nhận: insert, update, delete';\n",
    "COMMENT ON COLUMN ecom_bronze.inventory_raw.record_hash IS 'Mã hash giúp phát hiện thay đổi';\n",
    "COMMENT ON COLUMN ecom_bronze.inventory_raw.source_updated_at IS 'Thời điểm cập nhật từ hệ thống nguồn';\n"
   ]
  },
  {
   "cell_type": "code",
   "execution_count": 0,
   "metadata": {
    "application/vnd.databricks.v1+cell": {
     "cellMetadata": {
      "byteLimit": 2048000,
      "implicitDf": true,
      "rowLimit": 10000
     },
     "inputWidgets": {},
     "nuid": "0d947d8e-c9a5-4f57-ac50-51e9ecc1d100",
     "showTitle": false,
     "tableResultSettingsMap": {},
     "title": ""
    }
   },
   "outputs": [],
   "source": [
    "%sql\n",
    "ALTER TABLE catproject_catalog.ecom_bronze.inventory_raw\n",
    "SET TBLPROPERTIES (delta.enableChangeDataFeed = true);"
   ]
  },
  {
   "cell_type": "code",
   "execution_count": 0,
   "metadata": {
    "application/vnd.databricks.v1+cell": {
     "cellMetadata": {},
     "inputWidgets": {},
     "nuid": "48a0841c-ab03-4c79-8a15-2425d6efdab2",
     "showTitle": false,
     "tableResultSettingsMap": {},
     "title": ""
    }
   },
   "outputs": [],
   "source": [
    "%sql\n",
    "ALTER TABLE catproject_catalog.ecom_bronze.inventory_raw ALTER COLUMN inventory_id SET NOT NULL;\n",
    "ALTER TABLE catproject_catalog.ecom_bronze.inventory_raw ALTER COLUMN product_id SET NOT NULL;\n",
    "ALTER TABLE catproject_catalog.ecom_bronze.inventory_raw ALTER COLUMN warehouse_id SET NOT NULL;\n",
    "ALTER TABLE catproject_catalog.ecom_bronze.inventory_raw ALTER COLUMN quantity_on_hand SET NOT NULL;\n",
    "ALTER TABLE catproject_catalog.ecom_bronze.inventory_raw ALTER COLUMN quantity_reserved SET NOT NULL;\n",
    "ALTER TABLE catproject_catalog.ecom_bronze.inventory_raw ALTER COLUMN quantity_available SET NOT NULL;\n",
    "ALTER TABLE catproject_catalog.ecom_bronze.inventory_raw ALTER COLUMN unit SET NOT NULL;\n",
    "ALTER TABLE catproject_catalog.ecom_bronze.inventory_raw ALTER COLUMN snapshot_time SET NOT NULL;\n",
    "ALTER TABLE catproject_catalog.ecom_bronze.inventory_raw ALTER COLUMN source_system SET NOT NULL;\n",
    "ALTER TABLE catproject_catalog.ecom_bronze.inventory_raw ALTER COLUMN ingestion_time SET NOT NULL;\n",
    "ALTER TABLE catproject_catalog.ecom_bronze.inventory_raw ALTER COLUMN operation_type SET NOT NULL;\n",
    "ALTER TABLE catproject_catalog.ecom_bronze.inventory_raw ALTER COLUMN record_hash SET NOT NULL;\n",
    "ALTER TABLE catproject_catalog.ecom_bronze.inventory_raw ALTER COLUMN source_updated_at SET NOT NULL;\n",
    "\n",
    "ALTER TABLE catproject_catalog.ecom_bronze.inventory_raw\n",
    "ADD CONSTRAINT chk_snapshot_time CHECK (snapshot_time < current_timestamp());\n",
    "\n",
    "ALTER TABLE catproject_catalog.ecom_bronze.inventory_raw\n",
    "ADD CONSTRAINT chk_ingestion_time CHECK (ingestion_time < current_timestamp());\n",
    "\n",
    "ALTER TABLE catproject_catalog.ecom_bronze.inventory_raw\n",
    "ADD CONSTRAINT chk_source_updated_at CHECK (source_updated_at < current_timestamp());\n",
    "\n",
    "ALTER TABLE catproject_catalog.ecom_bronze.inventory_raw\n",
    "ADD CONSTRAINT chk_quantity_on_hand_nonnegative CHECK (quantity_on_hand >= 0);\n",
    "\n",
    "ALTER TABLE catproject_catalog.ecom_bronze.inventory_raw\n",
    "ADD CONSTRAINT chk_quantity_reserved_nonnegative CHECK (quantity_reserved >= 0);\n",
    "\n",
    "ALTER TABLE catproject_catalog.ecom_bronze.inventory_raw\n",
    "ADD CONSTRAINT chk_quantity_available_nonnegative CHECK (quantity_available >= 0);\n",
    "\n",
    "ALTER TABLE catproject_catalog.ecom_bronze.inventory_raw\n",
    "ADD CONSTRAINT chk_ingestion_year_nonnegative CHECK (ingestion_year >= 0);\n",
    "\n",
    "ALTER TABLE catproject_catalog.ecom_bronze.inventory_raw\n",
    "ADD CONSTRAINT chk_ingestion_month_nonnegative CHECK (ingestion_month >= 0);\n",
    "\n",
    "\n"
   ]
  }
 ],
 "metadata": {
  "application/vnd.databricks.v1+notebook": {
   "computePreferences": null,
   "dashboards": [],
   "environmentMetadata": null,
   "inputWidgetPreferences": null,
   "language": "python",
   "notebookMetadata": {
    "mostRecentlyExecutedCommandWithImplicitDF": {
     "commandId": 6997460793860264,
     "dataframes": [
      "_sqldf"
     ]
    },
    "pythonIndentUnit": 4
   },
   "notebookName": "inventory_raw",
   "widgets": {}
  },
  "language_info": {
   "name": "python"
  }
 },
 "nbformat": 4,
 "nbformat_minor": 0
}

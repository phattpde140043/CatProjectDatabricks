{
 "cells": [
  {
   "cell_type": "code",
   "execution_count": 0,
   "metadata": {
    "application/vnd.databricks.v1+cell": {
     "cellMetadata": {
      "byteLimit": 2048000,
      "implicitDf": true,
      "rowLimit": 10000
     },
     "inputWidgets": {},
     "nuid": "0238ff6c-8dde-4d44-9626-18db54765a83",
     "showTitle": false,
     "tableResultSettingsMap": {},
     "title": ""
    }
   },
   "outputs": [],
   "source": [
    "%sql\n",
    "USE CATALOG catproject_catalog"
   ]
  },
  {
   "cell_type": "code",
   "execution_count": 0,
   "metadata": {
    "application/vnd.databricks.v1+cell": {
     "cellMetadata": {
      "byteLimit": 2048000,
      "implicitDf": true,
      "rowLimit": 10000
     },
     "inputWidgets": {},
     "nuid": "bc0eef9e-0688-4645-811a-17493ac6c6b4",
     "showTitle": false,
     "tableResultSettingsMap": {},
     "title": ""
    }
   },
   "outputs": [],
   "source": [
    "%sql\n",
    "USE SCHEMA ecom_bronze"
   ]
  },
  {
   "cell_type": "code",
   "execution_count": 0,
   "metadata": {
    "application/vnd.databricks.v1+cell": {
     "cellMetadata": {
      "byteLimit": 2048000,
      "implicitDf": true,
      "rowLimit": 10000
     },
     "inputWidgets": {},
     "nuid": "8d64f6ec-9bf0-4eed-9cb6-9753112f2bf0",
     "showTitle": false,
     "tableResultSettingsMap": {},
     "title": ""
    }
   },
   "outputs": [],
   "source": [
    "%sql\n",
    "CREATE TABLE ecom_bronze.product_raw (\n",
    "  product_id          STRING,\n",
    "  product_name        STRING,\n",
    "  category            STRING,\n",
    "  brand               STRING,\n",
    "  description         STRING,\n",
    "  price               DECIMAL(18,2),\n",
    "  cost                DECIMAL(18,2),\n",
    "  currency            STRING,\n",
    "  status              STRING,\n",
    "  created_at          TIMESTAMP,\n",
    "  updated_at          TIMESTAMP,\n",
    "  source_system       STRING,\n",
    "  ingestion_time      TIMESTAMP,\n",
    "  ingestion_year      INT,\n",
    "  ingestion_month     INT,\n",
    "  operation_type      STRING,\n",
    "  record_hash         STRING,\n",
    "  source_updated_at   TIMESTAMP\n",
    ")\n",
    "USING DELTA\n",
    "PARTITIONED BY (ingestion_year, ingestion_month)\n",
    "TBLPROPERTIES (\n",
    "  'delta.enableChangeDataFeed' = true,\n",
    "  'comment' = 'Bảng raw chứa thông tin sản phẩm từ hệ thống nguồn (ERP, CMS, POS)'\n",
    ");\n"
   ]
  },
  {
   "cell_type": "markdown",
   "metadata": {
    "application/vnd.databricks.v1+cell": {
     "cellMetadata": {},
     "inputWidgets": {},
     "nuid": "915785d2-f0c1-452c-b5d3-53bb3445ac44",
     "showTitle": false,
     "tableResultSettingsMap": {},
     "title": ""
    }
   },
   "source": [
    "Tạo Constraint để đảm bảo Data Integrity"
   ]
  },
  {
   "cell_type": "code",
   "execution_count": 0,
   "metadata": {
    "application/vnd.databricks.v1+cell": {
     "cellMetadata": {
      "byteLimit": 2048000,
      "implicitDf": true,
      "rowLimit": 10000
     },
     "inputWidgets": {},
     "nuid": "34c3e565-1361-4c49-a23b-76bdf41ca5c4",
     "showTitle": false,
     "tableResultSettingsMap": {},
     "title": ""
    }
   },
   "outputs": [],
   "source": [
    "%sql\n",
    "ALTER TABLE ecom_bronze.product_raw ALTER COLUMN product_id SET NOT NULL;\n",
    "ALTER TABLE ecom_bronze.product_raw ALTER COLUMN product_name SET NOT NULL;\n",
    "ALTER TABLE ecom_bronze.product_raw ALTER COLUMN category SET NOT NULL;\n",
    "ALTER TABLE ecom_bronze.product_raw ALTER COLUMN brand SET NOT NULL;\n",
    "ALTER TABLE ecom_bronze.product_raw ALTER COLUMN price SET NOT NULL;\n",
    "ALTER TABLE ecom_bronze.product_raw ALTER COLUMN cost SET NOT NULL;\n",
    "ALTER TABLE ecom_bronze.product_raw ALTER COLUMN currency SET NOT NULL;\n",
    "ALTER TABLE ecom_bronze.product_raw ALTER COLUMN status SET NOT NULL;\n",
    "ALTER TABLE ecom_bronze.product_raw ALTER COLUMN source_system SET NOT NULL;\n",
    "ALTER TABLE ecom_bronze.product_raw ALTER COLUMN created_at SET NOT NULL;\n",
    "\n",
    "\n",
    "ALTER TABLE ecom_bronze.product_raw ADD CONSTRAINT valid_status CHECK (status IN ('active', 'inactive', 'discontinued'));\n",
    "ALTER TABLE ecom_bronze.product_raw ADD CONSTRAINT positive_price CHECK (price >= 0);\n",
    "ALTER TABLE ecom_bronze.product_raw ADD CONSTRAINT positive_cost CHECK (cost >= 0);\n",
    "ALTER TABLE ecom_bronze.product_raw ADD CONSTRAINT valid_currency CHECK (currency IN ('USD','VND'));\n",
    "ALTER TABLE ecom_bronze.product_raw ADD CONSTRAINT valid_created_date CHECK (created_at <= current_timestamp());\n"
   ]
  },
  {
   "cell_type": "markdown",
   "metadata": {
    "application/vnd.databricks.v1+cell": {
     "cellMetadata": {},
     "inputWidgets": {},
     "nuid": "a6a366ff-03b9-4840-a702-2305f24de5e7",
     "showTitle": false,
     "tableResultSettingsMap": {},
     "title": ""
    }
   },
   "source": [
    "Tạo comment cho các column"
   ]
  },
  {
   "cell_type": "code",
   "execution_count": 0,
   "metadata": {
    "application/vnd.databricks.v1+cell": {
     "cellMetadata": {
      "byteLimit": 2048000,
      "implicitDf": true,
      "rowLimit": 10000
     },
     "inputWidgets": {},
     "nuid": "5082122e-bfbd-466a-9ebf-82d834db4e69",
     "showTitle": false,
     "tableResultSettingsMap": {},
     "title": ""
    }
   },
   "outputs": [],
   "source": [
    "%sql\n",
    "COMMENT ON COLUMN ecom_bronze.product_raw.product_id IS 'Mã sản phẩm duy nhất';\n",
    "COMMENT ON COLUMN ecom_bronze.product_raw.product_name IS 'Tên sản phẩm';\n",
    "COMMENT ON COLUMN ecom_bronze.product_raw.category IS 'Danh mục sản phẩm';\n",
    "COMMENT ON COLUMN ecom_bronze.product_raw.brand IS 'Thương hiệu sản phẩm';\n",
    "COMMENT ON COLUMN ecom_bronze.product_raw.description IS 'Mô tả sản phẩm';\n",
    "COMMENT ON COLUMN ecom_bronze.product_raw.price IS 'Giá bán';\n",
    "COMMENT ON COLUMN ecom_bronze.product_raw.cost IS 'Giá vốn sản phẩm';\n",
    "COMMENT ON COLUMN ecom_bronze.product_raw.currency IS 'Loại tiền tệ';\n",
    "COMMENT ON COLUMN ecom_bronze.product_raw.status IS 'Trạng thái kinh doanh (active/inactive/discontinued)';\n",
    "COMMENT ON COLUMN ecom_bronze.product_raw.created_at IS 'Thời gian tạo bản ghi ở source';\n",
    "COMMENT ON COLUMN ecom_bronze.product_raw.updated_at IS 'Thời gian cập nhật gần nhất ở source';\n",
    "COMMENT ON COLUMN ecom_bronze.product_raw.source_system IS 'Hệ thống nguồn (ERP, CMS, POS)';\n",
    "COMMENT ON COLUMN ecom_bronze.product_raw.ingestion_time IS 'Thời điểm ingest vào lakehouse';\n",
    "COMMENT ON COLUMN ecom_bronze.product_raw.ingestion_year IS 'Năm ingest (partition)';\n",
    "COMMENT ON COLUMN ecom_bronze.product_raw.ingestion_month IS 'Tháng ingest (partition)';\n",
    "COMMENT ON COLUMN ecom_bronze.product_raw.operation_type IS 'INSERT / UPDATE / DELETE';\n",
    "COMMENT ON COLUMN ecom_bronze.product_raw.record_hash IS 'Hash để kiểm tra thay đổi';\n",
    "COMMENT ON COLUMN ecom_bronze.product_raw.source_updated_at IS 'Thời điểm cập nhật dữ liệu tại source';\n"
   ]
  },
  {
   "cell_type": "code",
   "execution_count": 0,
   "metadata": {
    "application/vnd.databricks.v1+cell": {
     "cellMetadata": {
      "byteLimit": 2048000,
      "implicitDf": true,
      "rowLimit": 10000
     },
     "inputWidgets": {},
     "nuid": "b8fefb86-978b-49c7-93dd-8612bddd86b2",
     "showTitle": false,
     "tableResultSettingsMap": {
      "0": {
       "dataGridStateBlob": "{\"version\":1,\"tableState\":{\"columnPinning\":{\"left\":[\"#row_number#\"],\"right\":[]},\"columnSizing\":{\"data_type\":198},\"columnVisibility\":{}},\"settings\":{\"columns\":{}},\"syncTimestamp\":1753350520845}",
       "filterBlob": null,
       "queryPlanFiltersBlob": null,
       "tableResultIndex": 0
      }
     },
     "title": ""
    }
   },
   "outputs": [],
   "source": [
    "%sql\n",
    "DESCRIBE TABLE EXTENDED ecom_bronze.product_raw;"
   ]
  }
 ],
 "metadata": {
  "application/vnd.databricks.v1+notebook": {
   "computePreferences": null,
   "dashboards": [],
   "environmentMetadata": null,
   "inputWidgetPreferences": null,
   "language": "python",
   "notebookMetadata": {
    "mostRecentlyExecutedCommandWithImplicitDF": {
     "commandId": 7658017846845622,
     "dataframes": [
      "_sqldf"
     ]
    },
    "pythonIndentUnit": 4
   },
   "notebookName": "products_raw",
   "widgets": {}
  },
  "language_info": {
   "name": "python"
  }
 },
 "nbformat": 4,
 "nbformat_minor": 0
}

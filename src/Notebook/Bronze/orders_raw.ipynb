{
 "cells": [
  {
   "cell_type": "code",
   "execution_count": 0,
   "metadata": {
    "application/vnd.databricks.v1+cell": {
     "cellMetadata": {
      "byteLimit": 2048000,
      "implicitDf": true,
      "rowLimit": 10000
     },
     "inputWidgets": {},
     "nuid": "89afea26-a967-4d6a-9b81-ec2832e28777",
     "showTitle": false,
     "tableResultSettingsMap": {},
     "title": ""
    }
   },
   "outputs": [],
   "source": [
    "%sql\n",
    "USE CATALOG catproject_catalog;\n",
    "USE SCHEMA ecom_bronze;"
   ]
  },
  {
   "cell_type": "code",
   "execution_count": 0,
   "metadata": {
    "application/vnd.databricks.v1+cell": {
     "cellMetadata": {
      "byteLimit": 2048000,
      "implicitDf": true,
      "rowLimit": 10000
     },
     "inputWidgets": {},
     "nuid": "7d6a17ff-c119-4233-bc1d-7953c8490e63",
     "showTitle": false,
     "tableResultSettingsMap": {},
     "title": ""
    }
   },
   "outputs": [],
   "source": [
    "%sql\n",
    "CREATE TABLE ecom_bronze.order_raw (\n",
    "  order_id           STRING,\n",
    "  customer_id        STRING,\n",
    "  order_date         TIMESTAMP,\n",
    "  status             STRING,\n",
    "  order_items_json   STRING,\n",
    "  items_total_amount DeCIMAL(18,2),\n",
    "  total_amount       DECIMAL(18,2),\n",
    "  discount_amount    DECIMAL(18,2),\n",
    "  tax_amount         DECIMAL(18,2),\n",
    "  shipping_fee       DECIMAL(18,2),\n",
    "  payment_method     STRING,\n",
    "  shipping_address   STRING,\n",
    "  billing_address    STRING,\n",
    "  source_system      STRING,\n",
    "  ingestion_time     TIMESTAMP,\n",
    "  ingestion_year     INT,\n",
    "  ingestion_month    INT,\n",
    "  operation_type     STRING,\n",
    "  record_hash        STRING,\n",
    "  source_updated_at  TIMESTAMP\n",
    ")\n",
    "USING DELTA\n",
    "PARTITIONED BY (ingestion_year, ingestion_month);\n"
   ]
  },
  {
   "cell_type": "markdown",
   "metadata": {
    "application/vnd.databricks.v1+cell": {
     "cellMetadata": {},
     "inputWidgets": {},
     "nuid": "1969ba38-deed-4a0b-8bcd-8a12f1c51e1b",
     "showTitle": false,
     "tableResultSettingsMap": {},
     "title": ""
    }
   },
   "source": [
    "Tạo Comment cho các cột"
   ]
  },
  {
   "cell_type": "code",
   "execution_count": 0,
   "metadata": {
    "application/vnd.databricks.v1+cell": {
     "cellMetadata": {
      "byteLimit": 2048000,
      "implicitDf": true,
      "rowLimit": 10000
     },
     "inputWidgets": {},
     "nuid": "f8ce3a84-388a-45be-a93d-f0195c717e09",
     "showTitle": false,
     "tableResultSettingsMap": {},
     "title": ""
    }
   },
   "outputs": [],
   "source": [
    "%sql\n",
    "ALTER TABLE ecom_bronze.order_raw ALTER COLUMN order_id COMMENT 'Mã đơn hàng duy nhất';\n",
    "ALTER TABLE ecom_bronze.order_raw ALTER COLUMN customer_id COMMENT 'Mã khách hàng';\n",
    "ALTER TABLE ecom_bronze.order_raw ALTER COLUMN order_date COMMENT 'Ngày đặt hàng';\n",
    "ALTER TABLE ecom_bronze.order_raw ALTER COLUMN status COMMENT 'Trạng thái đơn hàng';\n",
    "ALTER TABLE ecom_bronze.order_raw ALTER COLUMN order_items_json COMMENT 'Danh sách các sản phẩm trong đơn hàng';\n",
    "ALTER TABLE ecom_bronze.order_raw ALTER COLUMN total_amount COMMENT 'Tổng tiền đơn hàng';\n",
    "ALTER TABLE ecom_bronze.order_raw ALTER COLUMN discount_amount COMMENT 'Số tiền giảm giá';\n",
    "ALTER TABLE ecom_bronze.order_raw ALTER COLUMN tax_amount COMMENT 'Thuế';\n",
    "ALTER TABLE ecom_bronze.order_raw ALTER COLUMN shipping_fee COMMENT 'Phí vận chuyển';\n",
    "ALTER TABLE ecom_bronze.order_raw ALTER COLUMN payment_method COMMENT 'Phương thức thanh toán';\n",
    "ALTER TABLE ecom_bronze.order_raw ALTER COLUMN shipping_address COMMENT 'Địa chỉ giao hàng';\n",
    "ALTER TABLE ecom_bronze.order_raw ALTER COLUMN billing_address COMMENT 'Địa chỉ thanh toán';\n",
    "ALTER TABLE ecom_bronze.order_raw ALTER COLUMN source_system COMMENT 'Nguồn dữ liệu gốc';\n",
    "ALTER TABLE ecom_bronze.order_raw ALTER COLUMN ingestion_time COMMENT 'Thời điểm ingest';\n",
    "ALTER TABLE ecom_bronze.order_raw ALTER COLUMN ingestion_year COMMENT 'Năm ingest';\n",
    "ALTER TABLE ecom_bronze.order_raw ALTER COLUMN ingestion_month COMMENT 'Tháng ingest';\n",
    "ALTER TABLE ecom_bronze.order_raw ALTER COLUMN operation_type COMMENT 'Loại tác vụ: insert/update/delete';\n",
    "ALTER TABLE ecom_bronze.order_raw ALTER COLUMN record_hash COMMENT 'Hash toàn bộ record để kiểm tra thay đổi';\n",
    "ALTER TABLE ecom_bronze.order_raw ALTER COLUMN source_updated_at COMMENT 'Thời gian cập nhật cuối từ hệ thống nguồn';\n"
   ]
  },
  {
   "cell_type": "markdown",
   "metadata": {
    "application/vnd.databricks.v1+cell": {
     "cellMetadata": {},
     "inputWidgets": {},
     "nuid": "b53e36f3-4e90-4d8e-8c58-a4d9b4daa490",
     "showTitle": false,
     "tableResultSettingsMap": {},
     "title": ""
    }
   },
   "source": [
    "Tạo Constraint cho các cột"
   ]
  },
  {
   "cell_type": "code",
   "execution_count": 0,
   "metadata": {
    "application/vnd.databricks.v1+cell": {
     "cellMetadata": {
      "byteLimit": 2048000,
      "implicitDf": true,
      "rowLimit": 10000
     },
     "inputWidgets": {},
     "nuid": "45f9e722-db09-4419-a54b-b6461e7d81a2",
     "showTitle": false,
     "tableResultSettingsMap": {},
     "title": ""
    }
   },
   "outputs": [],
   "source": [
    "%sql\n",
    "ALTER TABLE ecom_bronze.order_raw ALTER COLUMN order_id SET NOT NULL;\n",
    "ALTER TABLE ecom_bronze.order_raw ALTER COLUMN customer_id SET NOT NULL;\n",
    "ALTER TABLE ecom_bronze.order_raw ALTER COLUMN order_date SET NOT NULL;\n",
    "ALTER TABLE ecom_bronze.order_raw ALTER COLUMN status SET NOT NULL;\n",
    "ALTER TABLE ecom_bronze.order_raw ALTER COLUMN order_items_json SET NOT NULL;\n",
    "ALTER TABLE ecom_bronze.order_raw ALTER COLUMN items_total_amount SET NOT NULL;\n",
    "ALTER TABLE ecom_bronze.order_raw ALTER COLUMN total_amount SET NOT NULL;\n",
    "ALTER TABLE ecom_bronze.order_raw ALTER COLUMN discount_amount SET NOT NULL;\n",
    "ALTER TABLE ecom_bronze.order_raw ALTER COLUMN tax_amount SET NOT NULL;\n",
    "ALTER TABLE ecom_bronze.order_raw ALTER COLUMN shipping_fee SET NOT NULL;\n",
    "ALTER TABLE ecom_bronze.order_raw ALTER COLUMN payment_method SET NOT NULL;\n",
    "ALTER TABLE ecom_bronze.order_raw ALTER COLUMN shipping_address SET NOT NULL;\n",
    "ALTER TABLE ecom_bronze.order_raw ALTER COLUMN billing_address SET NOT NULL;\n",
    "ALTER TABLE ecom_bronze.order_raw ALTER COLUMN source_system SET NOT NULL;\n",
    "ALTER TABLE ecom_bronze.order_raw ALTER COLUMN ingestion_time SET NOT NULL;\n",
    "ALTER TABLE ecom_bronze.order_raw ALTER COLUMN ingestion_year SET NOT NULL;\n",
    "ALTER TABLE ecom_bronze.order_raw ALTER COLUMN ingestion_month SET NOT NULL;\n",
    "ALTER TABLE ecom_bronze.order_raw ALTER COLUMN operation_type SET NOT NULL;\n",
    "ALTER TABLE ecom_bronze.order_raw ALTER COLUMN record_hash SET NOT NULL;\n",
    "ALTER TABLE ecom_bronze.order_raw ALTER COLUMN source_updated_at SET NOT NULL;"
   ]
  },
  {
   "cell_type": "code",
   "execution_count": 0,
   "metadata": {
    "application/vnd.databricks.v1+cell": {
     "cellMetadata": {
      "byteLimit": 2048000,
      "implicitDf": true,
      "rowLimit": 10000
     },
     "inputWidgets": {},
     "nuid": "366cdf65-d682-4d39-9e75-b65472507198",
     "showTitle": false,
     "tableResultSettingsMap": {},
     "title": ""
    }
   },
   "outputs": [],
   "source": [
    "%sql\n",
    "-- Ngày đặt hàng không ở tương lai\n",
    "ALTER TABLE ecom_bronze.order_raw \n",
    "ADD CONSTRAINT valid_order_date CHECK (order_date <= current_timestamp());\n",
    "\n",
    "-- Trạng thái đơn hàng hợp lệ\n",
    "ALTER TABLE ecom_bronze.order_raw \n",
    "ADD CONSTRAINT valid_status CHECK (status IN ('pending', 'processing', 'shipped', 'delivered', 'cancelled'));\n",
    "\n",
    "-- Tổng tiền không âm\n",
    "ALTER TABLE ecom_bronze.order_raw \n",
    "ADD CONSTRAINT valid_total_amount CHECK (total_amount >= 0);\n",
    "\n",
    "ALTER TABLE ecom_bronze.order_raw \n",
    "ADD CONSTRAINT valid_items_total_amount CHECK (items_total_amount >= 0);\n",
    "\n",
    "-- Khuyến mãi không âm\n",
    "ALTER TABLE ecom_bronze.order_raw \n",
    "ADD CONSTRAINT valid_discount_amount CHECK (discount_amount >= 0);\n",
    "\n",
    "-- Thuế không âm\n",
    "ALTER TABLE ecom_bronze.order_raw \n",
    "ADD CONSTRAINT valid_tax_amount CHECK (tax_amount >= 0);\n",
    "\n",
    "-- Phí vận chuyển không âm\n",
    "ALTER TABLE ecom_bronze.order_raw \n",
    "ADD CONSTRAINT valid_shipping_fee CHECK (shipping_fee >= 0);\n",
    "\n",
    "-- Kiểm tra cách thanh toán hợp lệ\n",
    "ALTER TABLE ecom_bronze.order_raw\n",
    "ADD CONSTRAINT valid_payment_method\n",
    "CHECK (\n",
    "  payment_method IN ('cash', 'credit_card', 'bank_transfer', 'e_wallet')\n",
    ");\n",
    "\n",
    "-- kiểm tra ingestion time không ở tương lai\n",
    "ALTER TABLE ecom_bronze.order_raw \n",
    "ADD CONSTRAINT valid_ingestion_time CHECK (ingestion_time <= current_timestamp());\n",
    "\n",
    "\n",
    "\n"
   ]
  },
  {
   "cell_type": "markdown",
   "metadata": {
    "application/vnd.databricks.v1+cell": {
     "cellMetadata": {},
     "inputWidgets": {},
     "nuid": "9d530144-0808-4038-882c-111e7541776d",
     "showTitle": false,
     "tableResultSettingsMap": {},
     "title": ""
    }
   },
   "source": [
    "Kích hoạt CDF"
   ]
  },
  {
   "cell_type": "code",
   "execution_count": 0,
   "metadata": {
    "application/vnd.databricks.v1+cell": {
     "cellMetadata": {
      "byteLimit": 2048000,
      "implicitDf": true,
      "rowLimit": 10000
     },
     "inputWidgets": {},
     "nuid": "ecb7fdac-d857-42c6-a7b4-28843b1ff466",
     "showTitle": false,
     "tableResultSettingsMap": {},
     "title": ""
    }
   },
   "outputs": [],
   "source": [
    "%sql\n",
    "ALTER TABLE ecom_bronze.order_raw SET TBLPROPERTIES (delta.enableChangeDataFeed = true);"
   ]
  },
  {
   "cell_type": "code",
   "execution_count": 0,
   "metadata": {
    "application/vnd.databricks.v1+cell": {
     "cellMetadata": {
      "byteLimit": 2048000,
      "implicitDf": true,
      "rowLimit": 10000
     },
     "inputWidgets": {},
     "nuid": "45f5f44d-4db7-4a99-beef-c85efce8c63a",
     "showTitle": false,
     "tableResultSettingsMap": {},
     "title": ""
    }
   },
   "outputs": [],
   "source": [
    "%sql\n",
    "DESCRIBE EXTENDED order_raw"
   ]
  }
 ],
 "metadata": {
  "application/vnd.databricks.v1+notebook": {
   "computePreferences": null,
   "dashboards": [],
   "environmentMetadata": null,
   "inputWidgetPreferences": null,
   "language": "python",
   "notebookMetadata": {
    "mostRecentlyExecutedCommandWithImplicitDF": {
     "commandId": 4701353315537006,
     "dataframes": [
      "_sqldf"
     ]
    },
    "pythonIndentUnit": 4
   },
   "notebookName": "orders_raw",
   "widgets": {}
  },
  "language_info": {
   "name": "python"
  }
 },
 "nbformat": 4,
 "nbformat_minor": 0
}
